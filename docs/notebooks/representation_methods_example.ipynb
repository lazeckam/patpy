{
 "cells": [
  {
   "cell_type": "markdown",
   "id": "0576edce",
   "metadata": {},
   "source": [
    "# Obtaining and evaluation of patient representations "
   ]
  },
  {
   "cell_type": "markdown",
   "id": "982b5ff0",
   "metadata": {},
   "source": [
    "## Install the patient_representation package"
   ]
  },
  {
   "cell_type": "code",
   "execution_count": null,
   "id": "fe2b1e5c",
   "metadata": {},
   "outputs": [],
   "source": [
    "!pip install git+https://github.com/lueckenlab/patpy.git@main"
   ]
  },
  {
   "cell_type": "markdown",
   "id": "d663964e",
   "metadata": {},
   "source": [
    "## Import packages"
   ]
  },
  {
   "cell_type": "code",
   "execution_count": 1,
   "id": "983ba9ef",
   "metadata": {},
   "outputs": [],
   "source": [
    "import ehrapy as ep\n",
    "import pandas as pd\n",
    "import scanpy as sc\n",
    "import patient_representation as pr\n",
    "import seaborn as sns\n",
    "from plottable import ColumnDefinition, Table\n",
    "from plottable.cmap import normed_cmap\n",
    "from plottable.plots import bar\n",
    "import matplotlib\n",
    "import matplotlib.pyplot as plt\n",
    "from matplotlib.colors import LinearSegmentedColormap\n"
   ]
  },
  {
   "cell_type": "code",
   "execution_count": 2,
   "id": "d99d93b4",
   "metadata": {},
   "outputs": [
    {
     "data": {
      "text/plain": [
       "'0.5.0'"
      ]
     },
     "execution_count": 2,
     "metadata": {},
     "output_type": "execute_result"
    }
   ],
   "source": [
    "pr.__version__"
   ]
  },
  {
   "cell_type": "markdown",
   "id": "36a105cc",
   "metadata": {},
   "source": [
    "## Read the data\n",
    "\n",
    "I will use [COMBAT dataset](https://www.kaggle.com/datasets/shitovvladimir/a-blood-atlas-of-covid-19-combat-preprocessed). You can set your own path"
   ]
  },
  {
   "cell_type": "code",
   "execution_count": 3,
   "id": "c15dfec8",
   "metadata": {},
   "outputs": [],
   "source": [
    "ADATA_PATH = \"/Users/vladimir.shitov/Documents/science/PhD/2022_10_patients_representation/data/combat_processed.h5ad\""
   ]
  },
  {
   "cell_type": "code",
   "execution_count": 4,
   "id": "cd2efb7a",
   "metadata": {},
   "outputs": [
    {
     "data": {
      "text/plain": [
       "AnnData object with n_obs × n_vars = 783704 × 3000\n",
       "    obs: 'Annotation_cluster_id', 'Annotation_cluster_name', 'Annotation_minor_subset', 'Annotation_major_subset', 'Annotation_cell_type', 'GEX_region', 'QC_ngenes', 'QC_total_UMI', 'QC_pct_mitochondrial', 'QC_scrub_doublet_scores', 'TCR_chain_composition', 'TCR_clone_ID', 'TCR_clone_count', 'TCR_clone_proportion', 'TCR_contains_unproductive', 'TCR_doublet', 'TCR_chain_TRA', 'TCR_v_gene_TRA', 'TCR_d_gene_TRA', 'TCR_j_gene_TRA', 'TCR_c_gene_TRA', 'TCR_productive_TRA', 'TCR_cdr3_TRA', 'TCR_umis_TRA', 'TCR_chain_TRA2', 'TCR_v_gene_TRA2', 'TCR_d_gene_TRA2', 'TCR_j_gene_TRA2', 'TCR_c_gene_TRA2', 'TCR_productive_TRA2', 'TCR_cdr3_TRA2', 'TCR_umis_TRA2', 'TCR_chain_TRB', 'TCR_v_gene_TRB', 'TCR_d_gene_TRB', 'TCR_j_gene_TRB', 'TCR_c_gene_TRB', 'TCR_productive_TRB', 'TCR_chain_TRB2', 'TCR_v_gene_TRB2', 'TCR_d_gene_TRB2', 'TCR_j_gene_TRB2', 'TCR_c_gene_TRB2', 'TCR_productive_TRB2', 'TCR_cdr3_TRB2', 'TCR_umis_TRB2', 'BCR_umis_HC', 'BCR_contig_qc_HC', 'BCR_functionality_HC', 'BCR_v_call_HC', 'BCR_v_score_HC', 'BCR_j_call_HC', 'BCR_j_score_HC', 'BCR_junction_aa_HC', 'BCR_total_mut_HC', 'BCR_s_mut_HC', 'BCR_r_mut_HC', 'BCR_c_gene_HC', 'BCR_clone_per_replicate_HC', 'BCR_clone_global_HC', 'BCR_clonal_abundance_HC', 'BCR_locus_LC', 'BCR_umis_LC', 'BCR_contig_qc_LC', 'BCR_functionality_LC', 'BCR_v_call_LC', 'BCR_v_score_LC', 'BCR_j_call_LC', 'BCR_j_score_LC', 'BCR_junction_aa_LC', 'BCR_total_mut_LC', 'BCR_s_mut_LC', 'BCR_r_mut_LC', 'BCR_c_gene_LC', 'COMBAT_ID', 'scRNASeq_sample_ID', 'COMBAT_participant_timepoint_ID', 'Source', 'Age', 'Sex', 'Race', 'BMI', 'Hospitalstay', 'Death28', 'Institute', 'PreExistingHeartDisease', 'PreExistingLungDisease', 'PreExistingKidneyDisease', 'PreExistingDiabetes', 'PreExistingHypertension', 'PreExistingImmunocompromised', 'Smoking', 'Symptomatic', 'Requiredvasoactive', 'Respiratorysupport', 'SARSCoV2PCR', 'Outcome', 'TimeSinceOnset', 'Ethnicity', 'Tissue', 'DiseaseClassification', 'Pool_ID', 'Channel_ID', 'ifn_1_score', '_scvi_batch', '_scvi_labels'\n",
       "    var: 'gene_ids', 'feature_types', 'highly_variable', 'highly_variable_rank', 'means', 'variances', 'variances_norm'\n",
       "    uns: 'Institute', 'ObjectCreateDate', 'Source_colors', 'Technology', '_scvi_manager_uuid', '_scvi_uuid', 'genome_annotation_version', 'hvg', 'pca'\n",
       "    obsm: 'X_pca', 'X_raw_counts', 'X_scANVI', 'X_scANVI_Pool_ID', 'X_scVI', 'X_scVI_Pool_ID', 'X_umap', 'X_umap_source'\n",
       "    varm: 'PCs'\n",
       "    layers: 'raw'"
      ]
     },
     "execution_count": 4,
     "metadata": {},
     "output_type": "execute_result"
    }
   ],
   "source": [
    "adata = sc.read_h5ad(ADATA_PATH)\n",
    "adata"
   ]
  },
  {
   "cell_type": "markdown",
   "id": "892bab5c",
   "metadata": {},
   "source": [
    "## Describe columns containing sample IDs, cell types and metadata"
   ]
  },
  {
   "cell_type": "code",
   "execution_count": 5,
   "id": "dd6105aa",
   "metadata": {},
   "outputs": [],
   "source": [
    "sample_id_col = \"scRNASeq_sample_ID\"\n",
    "cell_type_key = \"Annotation_major_subset\"\n",
    "samples_metadata_cols = [\"Source\", \"Outcome\", \"Death28\", \"Institute\", \"Pool_ID\"]"
   ]
  },
  {
   "cell_type": "markdown",
   "id": "9a70c7c4",
   "metadata": {},
   "source": [
    "## Store metadata and calculate QC metrics"
   ]
  },
  {
   "cell_type": "code",
   "execution_count": 6,
   "id": "dbf86880",
   "metadata": {},
   "outputs": [
    {
     "data": {
      "text/html": [
       "<div>\n",
       "<style scoped>\n",
       "    .dataframe tbody tr th:only-of-type {\n",
       "        vertical-align: middle;\n",
       "    }\n",
       "\n",
       "    .dataframe tbody tr th {\n",
       "        vertical-align: top;\n",
       "    }\n",
       "\n",
       "    .dataframe thead th {\n",
       "        text-align: right;\n",
       "    }\n",
       "</style>\n",
       "<table border=\"1\" class=\"dataframe\">\n",
       "  <thead>\n",
       "    <tr style=\"text-align: right;\">\n",
       "      <th></th>\n",
       "      <th>Source</th>\n",
       "      <th>Outcome</th>\n",
       "      <th>Death28</th>\n",
       "      <th>Institute</th>\n",
       "      <th>Pool_ID</th>\n",
       "    </tr>\n",
       "    <tr>\n",
       "      <th>scRNASeq_sample_ID</th>\n",
       "      <th></th>\n",
       "      <th></th>\n",
       "      <th></th>\n",
       "      <th></th>\n",
       "      <th></th>\n",
       "    </tr>\n",
       "  </thead>\n",
       "  <tbody>\n",
       "    <tr>\n",
       "      <th>S00109-Ja001E-PBCa</th>\n",
       "      <td>COVID_SEV</td>\n",
       "      <td>2.0</td>\n",
       "      <td>0</td>\n",
       "      <td>Oxford</td>\n",
       "      <td>gPlexA</td>\n",
       "    </tr>\n",
       "    <tr>\n",
       "      <th>S00112-Ja003E-PBCa</th>\n",
       "      <td>COVID_MILD</td>\n",
       "      <td>5.0</td>\n",
       "      <td>0</td>\n",
       "      <td>Oxford</td>\n",
       "      <td>gPlexA</td>\n",
       "    </tr>\n",
       "    <tr>\n",
       "      <th>S00005-Ja005E-PBCa</th>\n",
       "      <td>COVID_CRIT</td>\n",
       "      <td>2.0</td>\n",
       "      <td>0</td>\n",
       "      <td>Oxford</td>\n",
       "      <td>gPlexA</td>\n",
       "    </tr>\n",
       "    <tr>\n",
       "      <th>S00061-Ja003E-PBCa</th>\n",
       "      <td>COVID_SEV</td>\n",
       "      <td>4.0</td>\n",
       "      <td>0</td>\n",
       "      <td>Oxford</td>\n",
       "      <td>gPlexA</td>\n",
       "    </tr>\n",
       "    <tr>\n",
       "      <th>S00056-Ja003E-PBCa</th>\n",
       "      <td>COVID_SEV</td>\n",
       "      <td>3.0</td>\n",
       "      <td>0</td>\n",
       "      <td>Oxford</td>\n",
       "      <td>gPlexA</td>\n",
       "    </tr>\n",
       "    <tr>\n",
       "      <th>...</th>\n",
       "      <td>...</td>\n",
       "      <td>...</td>\n",
       "      <td>...</td>\n",
       "      <td>...</td>\n",
       "      <td>...</td>\n",
       "    </tr>\n",
       "    <tr>\n",
       "      <th>S00065-Ja003E-PBCa</th>\n",
       "      <td>COVID_CRIT</td>\n",
       "      <td>2.0</td>\n",
       "      <td>0</td>\n",
       "      <td>Oxford</td>\n",
       "      <td>gPlexK</td>\n",
       "    </tr>\n",
       "    <tr>\n",
       "      <th>S00048-Ja003E-PBCa</th>\n",
       "      <td>COVID_SEV</td>\n",
       "      <td>4.0</td>\n",
       "      <td>0</td>\n",
       "      <td>Oxford</td>\n",
       "      <td>gPlexK</td>\n",
       "    </tr>\n",
       "    <tr>\n",
       "      <th>G05112-Ja005E-PBCa</th>\n",
       "      <td>COVID_HCW_MILD</td>\n",
       "      <td>6.0</td>\n",
       "      <td>0</td>\n",
       "      <td>Oxford</td>\n",
       "      <td>gPlexK</td>\n",
       "    </tr>\n",
       "    <tr>\n",
       "      <th>N00038-Ja001E-PBGa</th>\n",
       "      <td>Sepsis</td>\n",
       "      <td>NaN</td>\n",
       "      <td>0</td>\n",
       "      <td>Oxford</td>\n",
       "      <td>gPlexK</td>\n",
       "    </tr>\n",
       "    <tr>\n",
       "      <th>U00501-Ua005E-PBUa</th>\n",
       "      <td>Flu</td>\n",
       "      <td>2.0</td>\n",
       "      <td>0</td>\n",
       "      <td>St_Georges</td>\n",
       "      <td>gPlexK</td>\n",
       "    </tr>\n",
       "  </tbody>\n",
       "</table>\n",
       "<p>140 rows × 5 columns</p>\n",
       "</div>"
      ],
      "text/plain": [
       "                            Source  Outcome  Death28   Institute Pool_ID\n",
       "scRNASeq_sample_ID                                                      \n",
       "S00109-Ja001E-PBCa       COVID_SEV      2.0        0      Oxford  gPlexA\n",
       "S00112-Ja003E-PBCa      COVID_MILD      5.0        0      Oxford  gPlexA\n",
       "S00005-Ja005E-PBCa      COVID_CRIT      2.0        0      Oxford  gPlexA\n",
       "S00061-Ja003E-PBCa       COVID_SEV      4.0        0      Oxford  gPlexA\n",
       "S00056-Ja003E-PBCa       COVID_SEV      3.0        0      Oxford  gPlexA\n",
       "...                            ...      ...      ...         ...     ...\n",
       "S00065-Ja003E-PBCa      COVID_CRIT      2.0        0      Oxford  gPlexK\n",
       "S00048-Ja003E-PBCa       COVID_SEV      4.0        0      Oxford  gPlexK\n",
       "G05112-Ja005E-PBCa  COVID_HCW_MILD      6.0        0      Oxford  gPlexK\n",
       "N00038-Ja001E-PBGa          Sepsis      NaN        0      Oxford  gPlexK\n",
       "U00501-Ua005E-PBUa             Flu      2.0        0  St_Georges  gPlexK\n",
       "\n",
       "[140 rows x 5 columns]"
      ]
     },
     "execution_count": 6,
     "metadata": {},
     "output_type": "execute_result"
    }
   ],
   "source": [
    "metadata = adata.obs[samples_metadata_cols + [sample_id_col]].drop_duplicates()\n",
    "metadata.set_index(sample_id_col, inplace=True)\n",
    "metadata"
   ]
  },
  {
   "cell_type": "code",
   "execution_count": 7,
   "id": "dec16692",
   "metadata": {},
   "outputs": [
    {
     "data": {
      "text/html": [
       "<div>\n",
       "<style scoped>\n",
       "    .dataframe tbody tr th:only-of-type {\n",
       "        vertical-align: middle;\n",
       "    }\n",
       "\n",
       "    .dataframe tbody tr th {\n",
       "        vertical-align: top;\n",
       "    }\n",
       "\n",
       "    .dataframe thead th {\n",
       "        text-align: right;\n",
       "    }\n",
       "</style>\n",
       "<table border=\"1\" class=\"dataframe\">\n",
       "  <thead>\n",
       "    <tr style=\"text-align: right;\">\n",
       "      <th></th>\n",
       "      <th>median_QC_ngenes</th>\n",
       "      <th>median_QC_pct_mitochondrial</th>\n",
       "      <th>median_QC_scrub_doublet_scores</th>\n",
       "    </tr>\n",
       "    <tr>\n",
       "      <th>scRNASeq_sample_ID</th>\n",
       "      <th></th>\n",
       "      <th></th>\n",
       "      <th></th>\n",
       "    </tr>\n",
       "  </thead>\n",
       "  <tbody>\n",
       "    <tr>\n",
       "      <th>G05061-Ja005E-PBCa</th>\n",
       "      <td>1107.0</td>\n",
       "      <td>3.011159</td>\n",
       "      <td>0.050648</td>\n",
       "    </tr>\n",
       "    <tr>\n",
       "      <th>G05064-Ja005E-PBCa</th>\n",
       "      <td>975.0</td>\n",
       "      <td>1.332430</td>\n",
       "      <td>0.060894</td>\n",
       "    </tr>\n",
       "    <tr>\n",
       "      <th>G05073-Ja005E-PBCa</th>\n",
       "      <td>1141.0</td>\n",
       "      <td>2.422559</td>\n",
       "      <td>0.044530</td>\n",
       "    </tr>\n",
       "    <tr>\n",
       "      <th>G05077-Ja005E-PBCa</th>\n",
       "      <td>1125.0</td>\n",
       "      <td>2.946723</td>\n",
       "      <td>0.048490</td>\n",
       "    </tr>\n",
       "    <tr>\n",
       "      <th>G05078-Ja005E-PBCa</th>\n",
       "      <td>999.0</td>\n",
       "      <td>2.825308</td>\n",
       "      <td>0.052783</td>\n",
       "    </tr>\n",
       "    <tr>\n",
       "      <th>...</th>\n",
       "      <td>...</td>\n",
       "      <td>...</td>\n",
       "      <td>...</td>\n",
       "    </tr>\n",
       "    <tr>\n",
       "      <th>U00607-Ua005E-PBUa</th>\n",
       "      <td>1827.0</td>\n",
       "      <td>2.982509</td>\n",
       "      <td>0.043323</td>\n",
       "    </tr>\n",
       "    <tr>\n",
       "      <th>U00613-Ua005E-PBUa</th>\n",
       "      <td>1251.5</td>\n",
       "      <td>2.053083</td>\n",
       "      <td>0.036956</td>\n",
       "    </tr>\n",
       "    <tr>\n",
       "      <th>U00617-Ua005E-PBUa</th>\n",
       "      <td>1410.5</td>\n",
       "      <td>3.886215</td>\n",
       "      <td>0.057906</td>\n",
       "    </tr>\n",
       "    <tr>\n",
       "      <th>U00619-Ua005E-PBUa</th>\n",
       "      <td>1532.0</td>\n",
       "      <td>2.688350</td>\n",
       "      <td>0.041823</td>\n",
       "    </tr>\n",
       "    <tr>\n",
       "      <th>U00701-Ua005E-PBUa</th>\n",
       "      <td>1093.5</td>\n",
       "      <td>3.714650</td>\n",
       "      <td>0.063941</td>\n",
       "    </tr>\n",
       "  </tbody>\n",
       "</table>\n",
       "<p>140 rows × 3 columns</p>\n",
       "</div>"
      ],
      "text/plain": [
       "                    median_QC_ngenes  median_QC_pct_mitochondrial  \\\n",
       "scRNASeq_sample_ID                                                  \n",
       "G05061-Ja005E-PBCa            1107.0                     3.011159   \n",
       "G05064-Ja005E-PBCa             975.0                     1.332430   \n",
       "G05073-Ja005E-PBCa            1141.0                     2.422559   \n",
       "G05077-Ja005E-PBCa            1125.0                     2.946723   \n",
       "G05078-Ja005E-PBCa             999.0                     2.825308   \n",
       "...                              ...                          ...   \n",
       "U00607-Ua005E-PBUa            1827.0                     2.982509   \n",
       "U00613-Ua005E-PBUa            1251.5                     2.053083   \n",
       "U00617-Ua005E-PBUa            1410.5                     3.886215   \n",
       "U00619-Ua005E-PBUa            1532.0                     2.688350   \n",
       "U00701-Ua005E-PBUa            1093.5                     3.714650   \n",
       "\n",
       "                    median_QC_scrub_doublet_scores  \n",
       "scRNASeq_sample_ID                                  \n",
       "G05061-Ja005E-PBCa                        0.050648  \n",
       "G05064-Ja005E-PBCa                        0.060894  \n",
       "G05073-Ja005E-PBCa                        0.044530  \n",
       "G05077-Ja005E-PBCa                        0.048490  \n",
       "G05078-Ja005E-PBCa                        0.052783  \n",
       "...                                            ...  \n",
       "U00607-Ua005E-PBUa                        0.043323  \n",
       "U00613-Ua005E-PBUa                        0.036956  \n",
       "U00617-Ua005E-PBUa                        0.057906  \n",
       "U00619-Ua005E-PBUa                        0.041823  \n",
       "U00701-Ua005E-PBUa                        0.063941  \n",
       "\n",
       "[140 rows x 3 columns]"
      ]
     },
     "execution_count": 7,
     "metadata": {},
     "output_type": "execute_result"
    }
   ],
   "source": [
    "cell_qc_metadata = pr.pp.calculate_cell_qc_metrics(adata, sample_key=sample_id_col, cell_qc_vars=[\"QC_ngenes\", \"QC_pct_mitochondrial\", \"QC_scrub_doublet_scores\"])\n",
    "cell_qc_metadata"
   ]
  },
  {
   "cell_type": "code",
   "execution_count": 8,
   "id": "3b7ea057",
   "metadata": {},
   "outputs": [
    {
     "data": {
      "text/html": [
       "<div>\n",
       "<style scoped>\n",
       "    .dataframe tbody tr th:only-of-type {\n",
       "        vertical-align: middle;\n",
       "    }\n",
       "\n",
       "    .dataframe tbody tr th {\n",
       "        vertical-align: top;\n",
       "    }\n",
       "\n",
       "    .dataframe thead th {\n",
       "        text-align: right;\n",
       "    }\n",
       "</style>\n",
       "<table border=\"1\" class=\"dataframe\">\n",
       "  <thead>\n",
       "    <tr style=\"text-align: right;\">\n",
       "      <th></th>\n",
       "      <th>n_cells</th>\n",
       "    </tr>\n",
       "    <tr>\n",
       "      <th>scRNASeq_sample_ID</th>\n",
       "      <th></th>\n",
       "    </tr>\n",
       "  </thead>\n",
       "  <tbody>\n",
       "    <tr>\n",
       "      <th>S00052-Ja005E-PBCa</th>\n",
       "      <td>13918</td>\n",
       "    </tr>\n",
       "    <tr>\n",
       "      <th>H00054-Ha001E-PBGa</th>\n",
       "      <td>10938</td>\n",
       "    </tr>\n",
       "    <tr>\n",
       "      <th>H00067-Ha001E-PBGa</th>\n",
       "      <td>10781</td>\n",
       "    </tr>\n",
       "    <tr>\n",
       "      <th>N00023-Ja001E-PBGa</th>\n",
       "      <td>10484</td>\n",
       "    </tr>\n",
       "    <tr>\n",
       "      <th>H00053-Ha001E-PBGa</th>\n",
       "      <td>10458</td>\n",
       "    </tr>\n",
       "    <tr>\n",
       "      <th>...</th>\n",
       "      <td>...</td>\n",
       "    </tr>\n",
       "    <tr>\n",
       "      <th>U00701-Ua005E-PBUa</th>\n",
       "      <td>872</td>\n",
       "    </tr>\n",
       "    <tr>\n",
       "      <th>U00601-Ua005E-PBUa</th>\n",
       "      <td>619</td>\n",
       "    </tr>\n",
       "    <tr>\n",
       "      <th>U00504-Ua005E-PBUa</th>\n",
       "      <td>161</td>\n",
       "    </tr>\n",
       "    <tr>\n",
       "      <th>G05092-Ja005E-PBCa</th>\n",
       "      <td>16</td>\n",
       "    </tr>\n",
       "    <tr>\n",
       "      <th>S00030-Ja003E-PBCa</th>\n",
       "      <td>11</td>\n",
       "    </tr>\n",
       "  </tbody>\n",
       "</table>\n",
       "<p>140 rows × 1 columns</p>\n",
       "</div>"
      ],
      "text/plain": [
       "                    n_cells\n",
       "scRNASeq_sample_ID         \n",
       "S00052-Ja005E-PBCa    13918\n",
       "H00054-Ha001E-PBGa    10938\n",
       "H00067-Ha001E-PBGa    10781\n",
       "N00023-Ja001E-PBGa    10484\n",
       "H00053-Ha001E-PBGa    10458\n",
       "...                     ...\n",
       "U00701-Ua005E-PBUa      872\n",
       "U00601-Ua005E-PBUa      619\n",
       "U00504-Ua005E-PBUa      161\n",
       "G05092-Ja005E-PBCa       16\n",
       "S00030-Ja003E-PBCa       11\n",
       "\n",
       "[140 rows x 1 columns]"
      ]
     },
     "execution_count": 8,
     "metadata": {},
     "output_type": "execute_result"
    }
   ],
   "source": [
    "n_genes_metadata = pr.pp.calculate_n_cells_per_sample(adata, sample_id_col)\n",
    "n_genes_metadata"
   ]
  },
  {
   "cell_type": "code",
   "execution_count": 9,
   "id": "1bb39bb4",
   "metadata": {},
   "outputs": [
    {
     "data": {
      "text/html": [
       "<div>\n",
       "<style scoped>\n",
       "    .dataframe tbody tr th:only-of-type {\n",
       "        vertical-align: middle;\n",
       "    }\n",
       "\n",
       "    .dataframe tbody tr th {\n",
       "        vertical-align: top;\n",
       "    }\n",
       "\n",
       "    .dataframe thead th {\n",
       "        text-align: right;\n",
       "    }\n",
       "</style>\n",
       "<table border=\"1\" class=\"dataframe\">\n",
       "  <thead>\n",
       "    <tr style=\"text-align: right;\">\n",
       "      <th>Annotation_major_subset</th>\n",
       "      <th>Annotation_major_subset_B</th>\n",
       "      <th>Annotation_major_subset_CD4</th>\n",
       "      <th>Annotation_major_subset_CD8</th>\n",
       "      <th>Annotation_major_subset_DC</th>\n",
       "      <th>Annotation_major_subset_DN</th>\n",
       "      <th>Annotation_major_subset_DP</th>\n",
       "      <th>Annotation_major_subset_GDT</th>\n",
       "      <th>Annotation_major_subset_HSC</th>\n",
       "      <th>Annotation_major_subset_MAIT</th>\n",
       "      <th>Annotation_major_subset_Mast</th>\n",
       "      <th>Annotation_major_subset_NK</th>\n",
       "      <th>Annotation_major_subset_PB</th>\n",
       "      <th>Annotation_major_subset_PLT</th>\n",
       "      <th>Annotation_major_subset_RET</th>\n",
       "      <th>Annotation_major_subset_cMono</th>\n",
       "      <th>Annotation_major_subset_iNKT</th>\n",
       "      <th>Annotation_major_subset_ncMono</th>\n",
       "    </tr>\n",
       "    <tr>\n",
       "      <th>scRNASeq_sample_ID</th>\n",
       "      <th></th>\n",
       "      <th></th>\n",
       "      <th></th>\n",
       "      <th></th>\n",
       "      <th></th>\n",
       "      <th></th>\n",
       "      <th></th>\n",
       "      <th></th>\n",
       "      <th></th>\n",
       "      <th></th>\n",
       "      <th></th>\n",
       "      <th></th>\n",
       "      <th></th>\n",
       "      <th></th>\n",
       "      <th></th>\n",
       "      <th></th>\n",
       "      <th></th>\n",
       "    </tr>\n",
       "  </thead>\n",
       "  <tbody>\n",
       "    <tr>\n",
       "      <th>G05061-Ja005E-PBCa</th>\n",
       "      <td>6.324900</td>\n",
       "      <td>33.921438</td>\n",
       "      <td>12.366844</td>\n",
       "      <td>1.597870</td>\n",
       "      <td>0.532623</td>\n",
       "      <td>0.499334</td>\n",
       "      <td>0.898802</td>\n",
       "      <td>0.066578</td>\n",
       "      <td>4.677097</td>\n",
       "      <td>0.000000</td>\n",
       "      <td>18.159121</td>\n",
       "      <td>0.316245</td>\n",
       "      <td>0.166445</td>\n",
       "      <td>0.016644</td>\n",
       "      <td>15.812250</td>\n",
       "      <td>0.033289</td>\n",
       "      <td>4.610519</td>\n",
       "    </tr>\n",
       "    <tr>\n",
       "      <th>G05064-Ja005E-PBCa</th>\n",
       "      <td>3.405158</td>\n",
       "      <td>47.147482</td>\n",
       "      <td>16.400581</td>\n",
       "      <td>1.819806</td>\n",
       "      <td>1.228090</td>\n",
       "      <td>0.725689</td>\n",
       "      <td>2.188233</td>\n",
       "      <td>0.022329</td>\n",
       "      <td>1.317405</td>\n",
       "      <td>0.000000</td>\n",
       "      <td>7.457854</td>\n",
       "      <td>0.446578</td>\n",
       "      <td>0.000000</td>\n",
       "      <td>0.000000</td>\n",
       "      <td>14.357486</td>\n",
       "      <td>0.000000</td>\n",
       "      <td>3.483309</td>\n",
       "    </tr>\n",
       "    <tr>\n",
       "      <th>G05073-Ja005E-PBCa</th>\n",
       "      <td>5.194338</td>\n",
       "      <td>45.609405</td>\n",
       "      <td>16.278791</td>\n",
       "      <td>1.487524</td>\n",
       "      <td>1.247601</td>\n",
       "      <td>0.839731</td>\n",
       "      <td>4.654511</td>\n",
       "      <td>0.011996</td>\n",
       "      <td>2.195298</td>\n",
       "      <td>0.011996</td>\n",
       "      <td>3.730806</td>\n",
       "      <td>0.203935</td>\n",
       "      <td>0.047985</td>\n",
       "      <td>0.000000</td>\n",
       "      <td>13.963532</td>\n",
       "      <td>0.083973</td>\n",
       "      <td>4.438580</td>\n",
       "    </tr>\n",
       "    <tr>\n",
       "      <th>G05077-Ja005E-PBCa</th>\n",
       "      <td>5.846211</td>\n",
       "      <td>29.231056</td>\n",
       "      <td>14.596909</td>\n",
       "      <td>1.377770</td>\n",
       "      <td>0.446844</td>\n",
       "      <td>1.340532</td>\n",
       "      <td>0.465463</td>\n",
       "      <td>0.167567</td>\n",
       "      <td>0.800596</td>\n",
       "      <td>0.018619</td>\n",
       "      <td>22.844908</td>\n",
       "      <td>1.079873</td>\n",
       "      <td>0.074474</td>\n",
       "      <td>0.018619</td>\n",
       "      <td>18.004096</td>\n",
       "      <td>0.055856</td>\n",
       "      <td>3.630609</td>\n",
       "    </tr>\n",
       "    <tr>\n",
       "      <th>G05078-Ja005E-PBCa</th>\n",
       "      <td>1.366381</td>\n",
       "      <td>39.000106</td>\n",
       "      <td>15.591569</td>\n",
       "      <td>2.340854</td>\n",
       "      <td>0.762631</td>\n",
       "      <td>0.730855</td>\n",
       "      <td>2.648025</td>\n",
       "      <td>0.211842</td>\n",
       "      <td>1.737104</td>\n",
       "      <td>0.021184</td>\n",
       "      <td>10.666243</td>\n",
       "      <td>0.148289</td>\n",
       "      <td>0.021184</td>\n",
       "      <td>0.000000</td>\n",
       "      <td>19.521237</td>\n",
       "      <td>0.497829</td>\n",
       "      <td>4.734668</td>\n",
       "    </tr>\n",
       "    <tr>\n",
       "      <th>...</th>\n",
       "      <td>...</td>\n",
       "      <td>...</td>\n",
       "      <td>...</td>\n",
       "      <td>...</td>\n",
       "      <td>...</td>\n",
       "      <td>...</td>\n",
       "      <td>...</td>\n",
       "      <td>...</td>\n",
       "      <td>...</td>\n",
       "      <td>...</td>\n",
       "      <td>...</td>\n",
       "      <td>...</td>\n",
       "      <td>...</td>\n",
       "      <td>...</td>\n",
       "      <td>...</td>\n",
       "      <td>...</td>\n",
       "      <td>...</td>\n",
       "    </tr>\n",
       "    <tr>\n",
       "      <th>U00607-Ua005E-PBUa</th>\n",
       "      <td>3.623898</td>\n",
       "      <td>10.577865</td>\n",
       "      <td>1.273262</td>\n",
       "      <td>4.701273</td>\n",
       "      <td>0.097943</td>\n",
       "      <td>0.195886</td>\n",
       "      <td>0.195886</td>\n",
       "      <td>0.685602</td>\n",
       "      <td>0.097943</td>\n",
       "      <td>0.000000</td>\n",
       "      <td>5.876592</td>\n",
       "      <td>1.175318</td>\n",
       "      <td>1.958864</td>\n",
       "      <td>0.097943</td>\n",
       "      <td>37.904016</td>\n",
       "      <td>0.000000</td>\n",
       "      <td>31.537708</td>\n",
       "    </tr>\n",
       "    <tr>\n",
       "      <th>U00613-Ua005E-PBUa</th>\n",
       "      <td>7.835052</td>\n",
       "      <td>26.391753</td>\n",
       "      <td>16.907216</td>\n",
       "      <td>0.721649</td>\n",
       "      <td>0.412371</td>\n",
       "      <td>0.309278</td>\n",
       "      <td>1.649485</td>\n",
       "      <td>0.000000</td>\n",
       "      <td>0.103093</td>\n",
       "      <td>0.000000</td>\n",
       "      <td>5.154639</td>\n",
       "      <td>1.237113</td>\n",
       "      <td>0.206186</td>\n",
       "      <td>0.000000</td>\n",
       "      <td>37.938144</td>\n",
       "      <td>0.000000</td>\n",
       "      <td>1.134021</td>\n",
       "    </tr>\n",
       "    <tr>\n",
       "      <th>U00617-Ua005E-PBUa</th>\n",
       "      <td>2.977233</td>\n",
       "      <td>41.418564</td>\n",
       "      <td>16.462347</td>\n",
       "      <td>0.437828</td>\n",
       "      <td>0.525394</td>\n",
       "      <td>0.262697</td>\n",
       "      <td>0.262697</td>\n",
       "      <td>0.963222</td>\n",
       "      <td>0.087566</td>\n",
       "      <td>0.000000</td>\n",
       "      <td>7.530648</td>\n",
       "      <td>17.513135</td>\n",
       "      <td>0.788091</td>\n",
       "      <td>0.087566</td>\n",
       "      <td>9.719790</td>\n",
       "      <td>0.000000</td>\n",
       "      <td>0.963222</td>\n",
       "    </tr>\n",
       "    <tr>\n",
       "      <th>U00619-Ua005E-PBUa</th>\n",
       "      <td>3.537618</td>\n",
       "      <td>35.077230</td>\n",
       "      <td>15.894370</td>\n",
       "      <td>0.896861</td>\n",
       "      <td>0.697559</td>\n",
       "      <td>0.298954</td>\n",
       "      <td>2.441455</td>\n",
       "      <td>1.145989</td>\n",
       "      <td>0.099651</td>\n",
       "      <td>0.099651</td>\n",
       "      <td>17.588440</td>\n",
       "      <td>2.840060</td>\n",
       "      <td>4.534131</td>\n",
       "      <td>0.000000</td>\n",
       "      <td>10.363727</td>\n",
       "      <td>0.000000</td>\n",
       "      <td>4.484305</td>\n",
       "    </tr>\n",
       "    <tr>\n",
       "      <th>U00701-Ua005E-PBUa</th>\n",
       "      <td>1.032110</td>\n",
       "      <td>15.596330</td>\n",
       "      <td>39.334862</td>\n",
       "      <td>1.261468</td>\n",
       "      <td>0.802752</td>\n",
       "      <td>0.458716</td>\n",
       "      <td>0.573394</td>\n",
       "      <td>0.114679</td>\n",
       "      <td>0.000000</td>\n",
       "      <td>0.000000</td>\n",
       "      <td>12.844037</td>\n",
       "      <td>0.000000</td>\n",
       "      <td>0.344037</td>\n",
       "      <td>0.229358</td>\n",
       "      <td>24.885321</td>\n",
       "      <td>0.000000</td>\n",
       "      <td>2.522936</td>\n",
       "    </tr>\n",
       "  </tbody>\n",
       "</table>\n",
       "<p>140 rows × 17 columns</p>\n",
       "</div>"
      ],
      "text/plain": [
       "Annotation_major_subset  Annotation_major_subset_B  \\\n",
       "scRNASeq_sample_ID                                   \n",
       "G05061-Ja005E-PBCa                        6.324900   \n",
       "G05064-Ja005E-PBCa                        3.405158   \n",
       "G05073-Ja005E-PBCa                        5.194338   \n",
       "G05077-Ja005E-PBCa                        5.846211   \n",
       "G05078-Ja005E-PBCa                        1.366381   \n",
       "...                                            ...   \n",
       "U00607-Ua005E-PBUa                        3.623898   \n",
       "U00613-Ua005E-PBUa                        7.835052   \n",
       "U00617-Ua005E-PBUa                        2.977233   \n",
       "U00619-Ua005E-PBUa                        3.537618   \n",
       "U00701-Ua005E-PBUa                        1.032110   \n",
       "\n",
       "Annotation_major_subset  Annotation_major_subset_CD4  \\\n",
       "scRNASeq_sample_ID                                     \n",
       "G05061-Ja005E-PBCa                         33.921438   \n",
       "G05064-Ja005E-PBCa                         47.147482   \n",
       "G05073-Ja005E-PBCa                         45.609405   \n",
       "G05077-Ja005E-PBCa                         29.231056   \n",
       "G05078-Ja005E-PBCa                         39.000106   \n",
       "...                                              ...   \n",
       "U00607-Ua005E-PBUa                         10.577865   \n",
       "U00613-Ua005E-PBUa                         26.391753   \n",
       "U00617-Ua005E-PBUa                         41.418564   \n",
       "U00619-Ua005E-PBUa                         35.077230   \n",
       "U00701-Ua005E-PBUa                         15.596330   \n",
       "\n",
       "Annotation_major_subset  Annotation_major_subset_CD8  \\\n",
       "scRNASeq_sample_ID                                     \n",
       "G05061-Ja005E-PBCa                         12.366844   \n",
       "G05064-Ja005E-PBCa                         16.400581   \n",
       "G05073-Ja005E-PBCa                         16.278791   \n",
       "G05077-Ja005E-PBCa                         14.596909   \n",
       "G05078-Ja005E-PBCa                         15.591569   \n",
       "...                                              ...   \n",
       "U00607-Ua005E-PBUa                          1.273262   \n",
       "U00613-Ua005E-PBUa                         16.907216   \n",
       "U00617-Ua005E-PBUa                         16.462347   \n",
       "U00619-Ua005E-PBUa                         15.894370   \n",
       "U00701-Ua005E-PBUa                         39.334862   \n",
       "\n",
       "Annotation_major_subset  Annotation_major_subset_DC  \\\n",
       "scRNASeq_sample_ID                                    \n",
       "G05061-Ja005E-PBCa                         1.597870   \n",
       "G05064-Ja005E-PBCa                         1.819806   \n",
       "G05073-Ja005E-PBCa                         1.487524   \n",
       "G05077-Ja005E-PBCa                         1.377770   \n",
       "G05078-Ja005E-PBCa                         2.340854   \n",
       "...                                             ...   \n",
       "U00607-Ua005E-PBUa                         4.701273   \n",
       "U00613-Ua005E-PBUa                         0.721649   \n",
       "U00617-Ua005E-PBUa                         0.437828   \n",
       "U00619-Ua005E-PBUa                         0.896861   \n",
       "U00701-Ua005E-PBUa                         1.261468   \n",
       "\n",
       "Annotation_major_subset  Annotation_major_subset_DN  \\\n",
       "scRNASeq_sample_ID                                    \n",
       "G05061-Ja005E-PBCa                         0.532623   \n",
       "G05064-Ja005E-PBCa                         1.228090   \n",
       "G05073-Ja005E-PBCa                         1.247601   \n",
       "G05077-Ja005E-PBCa                         0.446844   \n",
       "G05078-Ja005E-PBCa                         0.762631   \n",
       "...                                             ...   \n",
       "U00607-Ua005E-PBUa                         0.097943   \n",
       "U00613-Ua005E-PBUa                         0.412371   \n",
       "U00617-Ua005E-PBUa                         0.525394   \n",
       "U00619-Ua005E-PBUa                         0.697559   \n",
       "U00701-Ua005E-PBUa                         0.802752   \n",
       "\n",
       "Annotation_major_subset  Annotation_major_subset_DP  \\\n",
       "scRNASeq_sample_ID                                    \n",
       "G05061-Ja005E-PBCa                         0.499334   \n",
       "G05064-Ja005E-PBCa                         0.725689   \n",
       "G05073-Ja005E-PBCa                         0.839731   \n",
       "G05077-Ja005E-PBCa                         1.340532   \n",
       "G05078-Ja005E-PBCa                         0.730855   \n",
       "...                                             ...   \n",
       "U00607-Ua005E-PBUa                         0.195886   \n",
       "U00613-Ua005E-PBUa                         0.309278   \n",
       "U00617-Ua005E-PBUa                         0.262697   \n",
       "U00619-Ua005E-PBUa                         0.298954   \n",
       "U00701-Ua005E-PBUa                         0.458716   \n",
       "\n",
       "Annotation_major_subset  Annotation_major_subset_GDT  \\\n",
       "scRNASeq_sample_ID                                     \n",
       "G05061-Ja005E-PBCa                          0.898802   \n",
       "G05064-Ja005E-PBCa                          2.188233   \n",
       "G05073-Ja005E-PBCa                          4.654511   \n",
       "G05077-Ja005E-PBCa                          0.465463   \n",
       "G05078-Ja005E-PBCa                          2.648025   \n",
       "...                                              ...   \n",
       "U00607-Ua005E-PBUa                          0.195886   \n",
       "U00613-Ua005E-PBUa                          1.649485   \n",
       "U00617-Ua005E-PBUa                          0.262697   \n",
       "U00619-Ua005E-PBUa                          2.441455   \n",
       "U00701-Ua005E-PBUa                          0.573394   \n",
       "\n",
       "Annotation_major_subset  Annotation_major_subset_HSC  \\\n",
       "scRNASeq_sample_ID                                     \n",
       "G05061-Ja005E-PBCa                          0.066578   \n",
       "G05064-Ja005E-PBCa                          0.022329   \n",
       "G05073-Ja005E-PBCa                          0.011996   \n",
       "G05077-Ja005E-PBCa                          0.167567   \n",
       "G05078-Ja005E-PBCa                          0.211842   \n",
       "...                                              ...   \n",
       "U00607-Ua005E-PBUa                          0.685602   \n",
       "U00613-Ua005E-PBUa                          0.000000   \n",
       "U00617-Ua005E-PBUa                          0.963222   \n",
       "U00619-Ua005E-PBUa                          1.145989   \n",
       "U00701-Ua005E-PBUa                          0.114679   \n",
       "\n",
       "Annotation_major_subset  Annotation_major_subset_MAIT  \\\n",
       "scRNASeq_sample_ID                                      \n",
       "G05061-Ja005E-PBCa                           4.677097   \n",
       "G05064-Ja005E-PBCa                           1.317405   \n",
       "G05073-Ja005E-PBCa                           2.195298   \n",
       "G05077-Ja005E-PBCa                           0.800596   \n",
       "G05078-Ja005E-PBCa                           1.737104   \n",
       "...                                               ...   \n",
       "U00607-Ua005E-PBUa                           0.097943   \n",
       "U00613-Ua005E-PBUa                           0.103093   \n",
       "U00617-Ua005E-PBUa                           0.087566   \n",
       "U00619-Ua005E-PBUa                           0.099651   \n",
       "U00701-Ua005E-PBUa                           0.000000   \n",
       "\n",
       "Annotation_major_subset  Annotation_major_subset_Mast  \\\n",
       "scRNASeq_sample_ID                                      \n",
       "G05061-Ja005E-PBCa                           0.000000   \n",
       "G05064-Ja005E-PBCa                           0.000000   \n",
       "G05073-Ja005E-PBCa                           0.011996   \n",
       "G05077-Ja005E-PBCa                           0.018619   \n",
       "G05078-Ja005E-PBCa                           0.021184   \n",
       "...                                               ...   \n",
       "U00607-Ua005E-PBUa                           0.000000   \n",
       "U00613-Ua005E-PBUa                           0.000000   \n",
       "U00617-Ua005E-PBUa                           0.000000   \n",
       "U00619-Ua005E-PBUa                           0.099651   \n",
       "U00701-Ua005E-PBUa                           0.000000   \n",
       "\n",
       "Annotation_major_subset  Annotation_major_subset_NK  \\\n",
       "scRNASeq_sample_ID                                    \n",
       "G05061-Ja005E-PBCa                        18.159121   \n",
       "G05064-Ja005E-PBCa                         7.457854   \n",
       "G05073-Ja005E-PBCa                         3.730806   \n",
       "G05077-Ja005E-PBCa                        22.844908   \n",
       "G05078-Ja005E-PBCa                        10.666243   \n",
       "...                                             ...   \n",
       "U00607-Ua005E-PBUa                         5.876592   \n",
       "U00613-Ua005E-PBUa                         5.154639   \n",
       "U00617-Ua005E-PBUa                         7.530648   \n",
       "U00619-Ua005E-PBUa                        17.588440   \n",
       "U00701-Ua005E-PBUa                        12.844037   \n",
       "\n",
       "Annotation_major_subset  Annotation_major_subset_PB  \\\n",
       "scRNASeq_sample_ID                                    \n",
       "G05061-Ja005E-PBCa                         0.316245   \n",
       "G05064-Ja005E-PBCa                         0.446578   \n",
       "G05073-Ja005E-PBCa                         0.203935   \n",
       "G05077-Ja005E-PBCa                         1.079873   \n",
       "G05078-Ja005E-PBCa                         0.148289   \n",
       "...                                             ...   \n",
       "U00607-Ua005E-PBUa                         1.175318   \n",
       "U00613-Ua005E-PBUa                         1.237113   \n",
       "U00617-Ua005E-PBUa                        17.513135   \n",
       "U00619-Ua005E-PBUa                         2.840060   \n",
       "U00701-Ua005E-PBUa                         0.000000   \n",
       "\n",
       "Annotation_major_subset  Annotation_major_subset_PLT  \\\n",
       "scRNASeq_sample_ID                                     \n",
       "G05061-Ja005E-PBCa                          0.166445   \n",
       "G05064-Ja005E-PBCa                          0.000000   \n",
       "G05073-Ja005E-PBCa                          0.047985   \n",
       "G05077-Ja005E-PBCa                          0.074474   \n",
       "G05078-Ja005E-PBCa                          0.021184   \n",
       "...                                              ...   \n",
       "U00607-Ua005E-PBUa                          1.958864   \n",
       "U00613-Ua005E-PBUa                          0.206186   \n",
       "U00617-Ua005E-PBUa                          0.788091   \n",
       "U00619-Ua005E-PBUa                          4.534131   \n",
       "U00701-Ua005E-PBUa                          0.344037   \n",
       "\n",
       "Annotation_major_subset  Annotation_major_subset_RET  \\\n",
       "scRNASeq_sample_ID                                     \n",
       "G05061-Ja005E-PBCa                          0.016644   \n",
       "G05064-Ja005E-PBCa                          0.000000   \n",
       "G05073-Ja005E-PBCa                          0.000000   \n",
       "G05077-Ja005E-PBCa                          0.018619   \n",
       "G05078-Ja005E-PBCa                          0.000000   \n",
       "...                                              ...   \n",
       "U00607-Ua005E-PBUa                          0.097943   \n",
       "U00613-Ua005E-PBUa                          0.000000   \n",
       "U00617-Ua005E-PBUa                          0.087566   \n",
       "U00619-Ua005E-PBUa                          0.000000   \n",
       "U00701-Ua005E-PBUa                          0.229358   \n",
       "\n",
       "Annotation_major_subset  Annotation_major_subset_cMono  \\\n",
       "scRNASeq_sample_ID                                       \n",
       "G05061-Ja005E-PBCa                           15.812250   \n",
       "G05064-Ja005E-PBCa                           14.357486   \n",
       "G05073-Ja005E-PBCa                           13.963532   \n",
       "G05077-Ja005E-PBCa                           18.004096   \n",
       "G05078-Ja005E-PBCa                           19.521237   \n",
       "...                                                ...   \n",
       "U00607-Ua005E-PBUa                           37.904016   \n",
       "U00613-Ua005E-PBUa                           37.938144   \n",
       "U00617-Ua005E-PBUa                            9.719790   \n",
       "U00619-Ua005E-PBUa                           10.363727   \n",
       "U00701-Ua005E-PBUa                           24.885321   \n",
       "\n",
       "Annotation_major_subset  Annotation_major_subset_iNKT  \\\n",
       "scRNASeq_sample_ID                                      \n",
       "G05061-Ja005E-PBCa                           0.033289   \n",
       "G05064-Ja005E-PBCa                           0.000000   \n",
       "G05073-Ja005E-PBCa                           0.083973   \n",
       "G05077-Ja005E-PBCa                           0.055856   \n",
       "G05078-Ja005E-PBCa                           0.497829   \n",
       "...                                               ...   \n",
       "U00607-Ua005E-PBUa                           0.000000   \n",
       "U00613-Ua005E-PBUa                           0.000000   \n",
       "U00617-Ua005E-PBUa                           0.000000   \n",
       "U00619-Ua005E-PBUa                           0.000000   \n",
       "U00701-Ua005E-PBUa                           0.000000   \n",
       "\n",
       "Annotation_major_subset  Annotation_major_subset_ncMono  \n",
       "scRNASeq_sample_ID                                       \n",
       "G05061-Ja005E-PBCa                             4.610519  \n",
       "G05064-Ja005E-PBCa                             3.483309  \n",
       "G05073-Ja005E-PBCa                             4.438580  \n",
       "G05077-Ja005E-PBCa                             3.630609  \n",
       "G05078-Ja005E-PBCa                             4.734668  \n",
       "...                                                 ...  \n",
       "U00607-Ua005E-PBUa                            31.537708  \n",
       "U00613-Ua005E-PBUa                             1.134021  \n",
       "U00617-Ua005E-PBUa                             0.963222  \n",
       "U00619-Ua005E-PBUa                             4.484305  \n",
       "U00701-Ua005E-PBUa                             2.522936  \n",
       "\n",
       "[140 rows x 17 columns]"
      ]
     },
     "execution_count": 9,
     "metadata": {},
     "output_type": "execute_result"
    }
   ],
   "source": [
    "composition_metadata = pr.pp.calculate_compositional_metrics(adata, sample_id_col, [cell_type_key], normalize_to=100)\n",
    "composition_metadata"
   ]
  },
  {
   "cell_type": "markdown",
   "id": "0229e578",
   "metadata": {},
   "source": [
    "Merge metadata tables"
   ]
  },
  {
   "cell_type": "code",
   "execution_count": 10,
   "id": "a8c20440",
   "metadata": {},
   "outputs": [],
   "source": [
    "metadata = pd.concat([\n",
    "    metadata,\n",
    "    cell_qc_metadata.loc[metadata.index],\n",
    "    n_genes_metadata.loc[metadata.index],\n",
    "    composition_metadata.loc[metadata.index]\n",
    "], axis=1)"
   ]
  },
  {
   "cell_type": "code",
   "execution_count": 11,
   "id": "af253b8b",
   "metadata": {},
   "outputs": [
    {
     "data": {
      "image/png": "[encoded data removed]",
      "text/latex": [
       "$\\displaystyle \\left( 140, \\  26\\right)$"
      ],
      "text/plain": [
       "(140, 26)"
      ]
     },
     "execution_count": 11,
     "metadata": {},
     "output_type": "execute_result"
    }
   ],
   "source": [
    "metadata.shape"
   ]
  },
  {
   "cell_type": "markdown",
   "id": "bcf522ba",
   "metadata": {},
   "source": [
    "# Quality control\n",
    "\n",
    "To reduce noise in the representations, we need to remove samples with too few cells:"
   ]
  },
  {
   "cell_type": "code",
   "execution_count": 12,
   "id": "8a5ed833",
   "metadata": {},
   "outputs": [
    {
     "name": "stdout",
     "output_type": "stream",
     "text": [
      "2 samples removed: G05092-Ja005E-PBCa, S00030-Ja003E-PBCa\n"
     ]
    }
   ],
   "source": [
    "adata = pr.pp.filter_small_samples(adata, sample_key=sample_id_col, sample_size_threshold=100)"
   ]
  },
  {
   "cell_type": "markdown",
   "id": "0f5dd4f7",
   "metadata": {},
   "source": [
    "If necessary, we can also remove cell types with too few cells in at least one sample:\n",
    "\n",
    "`adata = pr.pp.filter_small_cell_types(adata, sample_key=sample_id_col, cell_group_key=cell_type_key, cell_type_size_threshold=10)`\n",
    "\n",
    "Some methods require this filtering step prior to building representation. In this notebook, we'll focus on simpler methods that can be used with only sample filtering."
   ]
  },
  {
   "cell_type": "markdown",
   "id": "8651ac51",
   "metadata": {},
   "source": [
    "## Run a simple pseudobulk representation"
   ]
  },
  {
   "cell_type": "markdown",
   "id": "8e1345a9",
   "metadata": {},
   "source": [
    "This method aggregates all cells from each sample into a single cell. It can be interpreted as an average cell from each sample. Any input space can be used specified by `layer` parameter. For example, to use count data, use `layer=\"X\"` or `layer=\"raw\". We find batch-corrected space to be the best for the representation, so we use `layer=\"X_scVI\"` below."
   ]
  },
  {
   "cell_type": "code",
   "execution_count": 13,
   "id": "9a079923",
   "metadata": {},
   "outputs": [
    {
     "data": {
      "text/plain": [
       "AnnData object with n_obs × n_vars = 783677 × 3000\n",
       "    obs: 'Annotation_cluster_id', 'Annotation_cluster_name', 'Annotation_minor_subset', 'Annotation_major_subset', 'Annotation_cell_type', 'GEX_region', 'QC_ngenes', 'QC_total_UMI', 'QC_pct_mitochondrial', 'QC_scrub_doublet_scores', 'TCR_chain_composition', 'TCR_clone_ID', 'TCR_clone_count', 'TCR_clone_proportion', 'TCR_contains_unproductive', 'TCR_doublet', 'TCR_chain_TRA', 'TCR_v_gene_TRA', 'TCR_d_gene_TRA', 'TCR_j_gene_TRA', 'TCR_c_gene_TRA', 'TCR_productive_TRA', 'TCR_cdr3_TRA', 'TCR_umis_TRA', 'TCR_chain_TRA2', 'TCR_v_gene_TRA2', 'TCR_d_gene_TRA2', 'TCR_j_gene_TRA2', 'TCR_c_gene_TRA2', 'TCR_productive_TRA2', 'TCR_cdr3_TRA2', 'TCR_umis_TRA2', 'TCR_chain_TRB', 'TCR_v_gene_TRB', 'TCR_d_gene_TRB', 'TCR_j_gene_TRB', 'TCR_c_gene_TRB', 'TCR_productive_TRB', 'TCR_chain_TRB2', 'TCR_v_gene_TRB2', 'TCR_d_gene_TRB2', 'TCR_j_gene_TRB2', 'TCR_c_gene_TRB2', 'TCR_productive_TRB2', 'TCR_cdr3_TRB2', 'TCR_umis_TRB2', 'BCR_umis_HC', 'BCR_contig_qc_HC', 'BCR_functionality_HC', 'BCR_v_call_HC', 'BCR_v_score_HC', 'BCR_j_call_HC', 'BCR_j_score_HC', 'BCR_junction_aa_HC', 'BCR_total_mut_HC', 'BCR_s_mut_HC', 'BCR_r_mut_HC', 'BCR_c_gene_HC', 'BCR_clone_per_replicate_HC', 'BCR_clone_global_HC', 'BCR_clonal_abundance_HC', 'BCR_locus_LC', 'BCR_umis_LC', 'BCR_contig_qc_LC', 'BCR_functionality_LC', 'BCR_v_call_LC', 'BCR_v_score_LC', 'BCR_j_call_LC', 'BCR_j_score_LC', 'BCR_junction_aa_LC', 'BCR_total_mut_LC', 'BCR_s_mut_LC', 'BCR_r_mut_LC', 'BCR_c_gene_LC', 'COMBAT_ID', 'scRNASeq_sample_ID', 'COMBAT_participant_timepoint_ID', 'Source', 'Age', 'Sex', 'Race', 'BMI', 'Hospitalstay', 'Death28', 'Institute', 'PreExistingHeartDisease', 'PreExistingLungDisease', 'PreExistingKidneyDisease', 'PreExistingDiabetes', 'PreExistingHypertension', 'PreExistingImmunocompromised', 'Smoking', 'Symptomatic', 'Requiredvasoactive', 'Respiratorysupport', 'SARSCoV2PCR', 'Outcome', 'TimeSinceOnset', 'Ethnicity', 'Tissue', 'DiseaseClassification', 'Pool_ID', 'Channel_ID', 'ifn_1_score', '_scvi_batch', '_scvi_labels'\n",
       "    var: 'gene_ids', 'feature_types', 'highly_variable', 'highly_variable_rank', 'means', 'variances', 'variances_norm'\n",
       "    uns: 'Institute', 'ObjectCreateDate', 'Source_colors', 'Technology', '_scvi_manager_uuid', '_scvi_uuid', 'genome_annotation_version', 'hvg', 'pca'\n",
       "    obsm: 'X_pca', 'X_raw_counts', 'X_scANVI', 'X_scANVI_Pool_ID', 'X_scVI', 'X_scVI_Pool_ID', 'X_umap', 'X_umap_source'\n",
       "    varm: 'PCs'\n",
       "    layers: 'raw'"
      ]
     },
     "execution_count": 13,
     "metadata": {},
     "output_type": "execute_result"
    }
   ],
   "source": [
    "adata"
   ]
  },
  {
   "cell_type": "code",
   "execution_count": null,
   "id": "5bcbc398",
   "metadata": {},
   "outputs": [],
   "source": [
    "pseudobulk = pr.tl.Pseudobulk(sample_key=sample_id_col, cell_group_key=cell_type_key, layer=\"X_scVI\")\n",
    "pseudobulk.prepare_anndata(adata)"
   ]
  },
  {
   "cell_type": "markdown",
   "id": "bff1aeaa",
   "metadata": {},
   "source": [
    "## Calculate a matrix of distances between samples"
   ]
  },
  {
   "cell_type": "code",
   "execution_count": 15,
   "id": "8bd2f018",
   "metadata": {},
   "outputs": [
    {
     "ename": "TypeError",
     "evalue": "object of type 'NoneType' has no len()",
     "output_type": "error",
     "traceback": [
      "\u001b[0;31m---------------------------------------------------------------------------\u001b[0m",
      "\u001b[0;31mTypeError\u001b[0m                                 Traceback (most recent call last)",
      "Cell \u001b[0;32mIn[15], line 1\u001b[0m\n\u001b[0;32m----> 1\u001b[0m distances \u001b[38;5;241m=\u001b[39m \u001b[43mpseudobulk\u001b[49m\u001b[38;5;241;43m.\u001b[39;49m\u001b[43mcalculate_distance_matrix\u001b[49m\u001b[43m(\u001b[49m\u001b[43m)\u001b[49m\n\u001b[1;32m      2\u001b[0m distances\n",
      "File \u001b[0;32m~/Documents/programming/patient_representation/src/patient_representation/tl/basic.py:1265\u001b[0m, in \u001b[0;36mPseudobulk.calculate_distance_matrix\u001b[0;34m(self, force, aggregate, dist)\u001b[0m\n\u001b[1;32m   1261\u001b[0m distance_metric \u001b[38;5;241m=\u001b[39m valid_distance_metric(dist)\n\u001b[1;32m   1263\u001b[0m data \u001b[38;5;241m=\u001b[39m \u001b[38;5;28mself\u001b[39m\u001b[38;5;241m.\u001b[39m_get_data()\n\u001b[0;32m-> 1265\u001b[0m \u001b[38;5;28mself\u001b[39m\u001b[38;5;241m.\u001b[39msample_representation \u001b[38;5;241m=\u001b[39m np\u001b[38;5;241m.\u001b[39mzeros(shape\u001b[38;5;241m=\u001b[39m(\u001b[38;5;28;43mlen\u001b[39;49m\u001b[43m(\u001b[49m\u001b[38;5;28;43mself\u001b[39;49m\u001b[38;5;241;43m.\u001b[39;49m\u001b[43msamples\u001b[49m\u001b[43m)\u001b[49m, data\u001b[38;5;241m.\u001b[39mshape[\u001b[38;5;241m1\u001b[39m]))\n\u001b[1;32m   1267\u001b[0m \u001b[38;5;28;01mfor\u001b[39;00m i, sample \u001b[38;5;129;01min\u001b[39;00m \u001b[38;5;28menumerate\u001b[39m(\u001b[38;5;28mself\u001b[39m\u001b[38;5;241m.\u001b[39msamples):\n\u001b[1;32m   1268\u001b[0m     sample_cells \u001b[38;5;241m=\u001b[39m data[\u001b[38;5;28mself\u001b[39m\u001b[38;5;241m.\u001b[39madata\u001b[38;5;241m.\u001b[39mobs[\u001b[38;5;28mself\u001b[39m\u001b[38;5;241m.\u001b[39msample_key] \u001b[38;5;241m==\u001b[39m sample, :]\n",
      "\u001b[0;31mTypeError\u001b[0m: object of type 'NoneType' has no len()"
     ]
    }
   ],
   "source": [
    "distances = pseudobulk.calculate_distance_matrix()\n",
    "distances"
   ]
  },
  {
   "cell_type": "markdown",
   "id": "e934a3e8",
   "metadata": {},
   "source": [
    "We can also see the pseudobulks (average gene exapression) for each sample:"
   ]
  },
  {
   "cell_type": "code",
   "execution_count": null,
   "id": "2bdacf12",
   "metadata": {},
   "outputs": [],
   "source": [
    "pseudobulk.sample_representation"
   ]
  },
  {
   "cell_type": "code",
   "execution_count": null,
   "id": "eb995473",
   "metadata": {},
   "outputs": [],
   "source": [
    "pseudobulk.plot_embedding(method=\"UMAP\", metadata_cols=samples_metadata_cols);"
   ]
  },
  {
   "cell_type": "markdown",
   "id": "4b70c494",
   "metadata": {},
   "source": [
    "Other dimensionality reduction methods are also available"
   ]
  },
  {
   "cell_type": "code",
   "execution_count": null,
   "id": "828ad784",
   "metadata": {},
   "outputs": [],
   "source": [
    "pseudobulk.plot_embedding(method=\"TSNE\", metadata_cols=samples_metadata_cols);"
   ]
  },
  {
   "cell_type": "code",
   "execution_count": null,
   "id": "8d55cbba",
   "metadata": {},
   "outputs": [],
   "source": [
    "pseudobulk.plot_embedding(method=\"MDS\", metadata_cols=samples_metadata_cols);"
   ]
  },
  {
   "cell_type": "markdown",
   "id": "757eae88",
   "metadata": {},
   "source": [
    "### Evaluate how well a covariate is represented"
   ]
  },
  {
   "cell_type": "markdown",
   "id": "a0465902",
   "metadata": {},
   "source": [
    "Let's try to classify \"Outcome\" based on the nearest neighbors of the patients:"
   ]
  },
  {
   "cell_type": "code",
   "execution_count": null,
   "id": "dc8331f1",
   "metadata": {},
   "outputs": [],
   "source": [
    "pseudobulk.evaluate_representation(target=\"Outcome\", method=\"knn\", n_neighbors=5, task=\"classification\")"
   ]
  },
  {
   "cell_type": "markdown",
   "id": "66b9a50a",
   "metadata": {},
   "source": [
    "It doesn't work too good. Now we can try to solve the ranking problem for the same covariate. It will train regressor and use a different metric for evaluation:"
   ]
  },
  {
   "cell_type": "code",
   "execution_count": null,
   "id": "302646d6",
   "metadata": {},
   "outputs": [],
   "source": [
    "pseudobulk.evaluate_representation(target=\"Outcome\", method=\"knn\", n_neighbors=5, task=\"ranking\")"
   ]
  },
  {
   "cell_type": "markdown",
   "id": "e54c8099",
   "metadata": {},
   "source": [
    "Now let's see how well Pool is represented:"
   ]
  },
  {
   "cell_type": "code",
   "execution_count": null,
   "id": "6d8c9204",
   "metadata": {},
   "outputs": [],
   "source": [
    "pseudobulk.evaluate_representation(target=\"Pool_ID\", method=\"knn\", n_neighbors=5, task=\"classification\")"
   ]
  },
  {
   "cell_type": "markdown",
   "id": "3d5a3e71",
   "metadata": {},
   "source": [
    "Save the distances to adata"
   ]
  },
  {
   "cell_type": "code",
   "execution_count": 22,
   "id": "11969c55",
   "metadata": {},
   "outputs": [],
   "source": [
    "adata.uns[\"pseudobulk_distances\"] = distances\n",
    "adata.uns[\"pseudobulk_samples\"] = pseudobulk.samples\n",
    "adata.uns[\"pseudobulk_UMAP\"] = pseudobulk.embeddings[\"UMAP\"]"
   ]
  },
  {
   "cell_type": "markdown",
   "id": "56a34316",
   "metadata": {},
   "source": [
    "## Run PILOT representation"
   ]
  },
  {
   "cell_type": "markdown",
   "id": "37fc64f2",
   "metadata": {},
   "source": [
    "[PILOT](https://pubmed.ncbi.nlm.nih.gov/38177382/) is an Optimal Transport-based tool, which calculates distances between samples based on cell type proportion differences taking into account cell type similarities. Note that to run it, you need to install the dependencies additionally:\n",
    "\n",
    "`pip install patient_representation[pilot]`"
   ]
  },
  {
   "cell_type": "code",
   "execution_count": 23,
   "id": "02532556",
   "metadata": {},
   "outputs": [],
   "source": [
    "pilot = pr.tl.PILOT(\n",
    "    sample_key=sample_id_col,\n",
    "    cell_group_key=cell_type_key,\n",
    "    layer=\"X_scVI\",\n",
    "    sample_state_col=\"Outcome\"  # It is not used for distances calculation and doesn't really matter\n",
    ")"
   ]
  },
  {
   "cell_type": "code",
   "execution_count": null,
   "id": "1ff4c040",
   "metadata": {},
   "outputs": [],
   "source": [
    "pilot.prepare_anndata(adata, sample_size_threshold=100)"
   ]
  },
  {
   "cell_type": "code",
   "execution_count": null,
   "id": "8ba4c895",
   "metadata": {},
   "outputs": [],
   "source": [
    "pilot.calculate_distance_matrix()"
   ]
  },
  {
   "cell_type": "code",
   "execution_count": null,
   "id": "cc3a707e",
   "metadata": {},
   "outputs": [],
   "source": [
    "pilot.plot_embedding(method=\"UMAP\", metadata_cols=samples_metadata_cols)"
   ]
  },
  {
   "cell_type": "code",
   "execution_count": null,
   "id": "ae05f144",
   "metadata": {},
   "outputs": [],
   "source": [
    "adata.uns[\"pilot_distances\"] = pilot.calculate_distance_matrix()\n",
    "adata.uns[\"pilot_samples\"] = pilot.samples\n",
    "adata.uns[\"pilot_UMAP\"] = pilot.embeddings[\"UMAP\"]"
   ]
  },
  {
   "cell_type": "markdown",
   "id": "51bce02f",
   "metadata": {},
   "source": [
    "Let's check the covariates:"
   ]
  },
  {
   "cell_type": "code",
   "execution_count": null,
   "id": "af9f4cb9",
   "metadata": {},
   "outputs": [],
   "source": [
    "pilot.evaluate_representation(target=\"Outcome\", method=\"knn\", n_neighbors=5, task=\"ranking\")"
   ]
  },
  {
   "cell_type": "code",
   "execution_count": null,
   "id": "1958fd84",
   "metadata": {},
   "outputs": [],
   "source": [
    "pilot.evaluate_representation(target=\"Pool_ID\", method=\"knn\", n_neighbors=5, task=\"classification\")"
   ]
  },
  {
   "cell_type": "markdown",
   "id": "4b9e214f",
   "metadata": {},
   "source": [
    "Outcome is represented a bit worse, but Pool ID almost doesn't affect the representation"
   ]
  },
  {
   "cell_type": "markdown",
   "id": "85a519e0",
   "metadata": {},
   "source": [
    "# Compare representations"
   ]
  },
  {
   "cell_type": "code",
   "execution_count": null,
   "id": "e39356a3",
   "metadata": {},
   "outputs": [],
   "source": [
    "def align_representations(adata, meta_adata, samples, methods, cols_of_interest):\n",
    "    for method in methods:\n",
    "    #     samples_to_take = np.isin(adata.uns[f\"{method}_samples\"], samples)\n",
    "        representation_samples = adata.uns[f\"{method}_samples\"].tolist()\n",
    "        samples_order = [representation_samples.index(sample) for sample in samples if sample in representation_samples]\n",
    "\n",
    "        assert (adata.uns[f\"{method}_samples\"][samples_order] == samples).all(), \"Order of samples is not correct\"\n",
    "\n",
    "        meta_adata.obsm[f\"{method}_UMAP\"] = adata.uns[f\"{method}_UMAP\"][samples_order]\n",
    "        meta_adata.obsm[\"umap\"] = meta_adata.obsm[f\"{method}_UMAP\"]\n",
    "        meta_adata.obsm[f\"{method}_distances\"] = adata.uns[f\"{method}_distances\"][samples_order][:, samples_order]\n",
    "\n",
    "        ep.pp.neighbors(meta_adata, use_rep=f\"{method}_distances\", key_added=f\"{method}_neighbors\", metric=\"precomputed\")\n",
    "        ep.tl.leiden(meta_adata, key_added=f\"{method}_leiden\", neighbors_key=f\"{method}_neighbors\")\n",
    "\n",
    "        fig = ep.pl.umap(meta_adata, color=[f\"{method}_leiden\"] + cols_of_interest, return_fig=True)\n",
    "        fig.suptitle(method, fontsize=20)\n",
    "\n",
    "    return meta_adata"
   ]
  },
  {
   "cell_type": "code",
   "execution_count": null,
   "id": "d520d792",
   "metadata": {},
   "outputs": [],
   "source": [
    "combat_methods = [\n",
    "    \"pseudobulk\",\n",
    "    \"pilot\",\n",
    "]"
   ]
  },
  {
   "cell_type": "code",
   "execution_count": null,
   "id": "b782792f",
   "metadata": {},
   "outputs": [],
   "source": [
    "combat_samples = list(set(adata.uns[f\"{method}_samples\"]) for method in combat_methods)\n",
    "combat_samples = list(set.intersection(*combat_samples))\n",
    "len(combat_samples)"
   ]
  },
  {
   "cell_type": "code",
   "execution_count": null,
   "id": "c4110562",
   "metadata": {},
   "outputs": [],
   "source": [
    "metadata = metadata.loc[combat_samples]"
   ]
  },
  {
   "cell_type": "code",
   "execution_count": null,
   "id": "e8b056b7",
   "metadata": {},
   "outputs": [],
   "source": [
    "combat_meta_adata = ep.io.df_to_anndata(metadata)\n",
    "combat_meta_adata = ep.pp.encode(combat_meta_adata, autodetect=True)\n",
    "combat_meta_adata"
   ]
  },
  {
   "cell_type": "code",
   "execution_count": null,
   "id": "aa76d3dd",
   "metadata": {},
   "outputs": [],
   "source": [
    "combat_meta_adata = align_representations(adata=adata, meta_adata=combat_meta_adata, samples=combat_samples, methods=combat_methods, cols_of_interest=samples_metadata_cols)"
   ]
  },
  {
   "cell_type": "markdown",
   "id": "0abd54ce",
   "metadata": {},
   "source": [
    "## Define types and prediction tasks for the covariates"
   ]
  },
  {
   "cell_type": "code",
   "execution_count": null,
   "id": "e8e82bdb",
   "metadata": {},
   "outputs": [],
   "source": [
    "benchmark_schema = {\n",
    "    \"technical\": [\"Institute\", \"Pool_ID\", \"n_cells\", \"median_QC_ngenes\"],\n",
    "    \"clinical\": [\"Death28\", \"Outcome\", \"Source\"],\n",
    "    \"biological\": [\"Annotation_major_subset_CD4\"],\n",
    "}\n",
    "\n",
    "cols_with_tasks = {\n",
    "    \"Annotation_major_subset_CD4\": \"regression\",\n",
    "    \"Institute\": \"classification\",\n",
    "    \"Pool_ID\": \"classification\",\n",
    "    \"n_cells\": \"regression\",\n",
    "    \"median_QC_ngenes\": \"regression\",\n",
    "    \"Death28\": \"classification\",\n",
    "    \"Outcome\": \"ranking\",\n",
    "    \"Source\": \"classification\",\n",
    "}"
   ]
  },
  {
   "cell_type": "code",
   "execution_count": null,
   "id": "cfa7da7d",
   "metadata": {},
   "outputs": [],
   "source": [
    "results = []\n",
    "\n",
    "for method in combat_methods: \n",
    "    for covariate_type in benchmark_schema:\n",
    "        for col in benchmark_schema[covariate_type]:\n",
    "            task = cols_with_tasks[col]\n",
    "            try:\n",
    "                result = pr.tl.evaluate_representation(\n",
    "                    distances=combat_meta_adata.obsm[f\"{method}_distances\"],\n",
    "                    target=metadata[col],\n",
    "                    method=\"knn\",\n",
    "                    task=task,\n",
    "        #             n_neighbors=5\n",
    "                )\n",
    "            except Exception as e:\n",
    "                print(\"Method:\", method)\n",
    "                print(\"Col:\", col)\n",
    "                print(\"Task:\", task)\n",
    "                print(e)\n",
    "                print()\n",
    "                continue\n",
    "    #             raise(e)\n",
    "            result[\"representation\"] = method\n",
    "            result[\"covariate\"] = col\n",
    "            result[\"covariate_type\"] = covariate_type\n",
    "            \n",
    "            if result[\"metric\"] == \"spearman_r\":\n",
    "                result[\"score\"] = abs(result[\"score\"])\n",
    "            \n",
    "            if covariate_type == \"technical\":\n",
    "                result[\"score\"] = 1 - result[\"score\"]\n",
    "            \n",
    "            results.append(result)"
   ]
  },
  {
   "cell_type": "markdown",
   "id": "3f131e7b",
   "metadata": {},
   "source": [
    "Scores are ranged from 0 to 1\n",
    "\n",
    "- For covariates that we defined as technical, 0 means that covariate strongly affects the representation, and 1 means that this covariate is randomly distributed across representation\n",
    "- For biological and clinical covariates, 0 means that a covariate is not represented well (it is randomly distributed), while 1 means that similar patients have similar values of covariate "
   ]
  },
  {
   "cell_type": "code",
   "execution_count": null,
   "id": "8646511d",
   "metadata": {},
   "outputs": [],
   "source": [
    "knn_results = pd.DataFrame(results)\n",
    "knn_results.sort_values(\"score\", ascending=False)"
   ]
  },
  {
   "cell_type": "code",
   "execution_count": null,
   "id": "a4969efa",
   "metadata": {},
   "outputs": [],
   "source": [
    "# plt.figure(figsize=(10, 20))\n",
    "sns.barplot(data=knn_results, y=\"covariate\", x=\"score\", orient=\"h\", hue=\"representation\", palette=\"tab20\")\n",
    "plt.xlim(0, 1.05)\n",
    "plt.title(\"KNN-score\", fontsize=24)"
   ]
  },
  {
   "cell_type": "code",
   "execution_count": null,
   "id": "2f9a97d5",
   "metadata": {},
   "outputs": [],
   "source": [
    "knn_results_wide = knn_results.pivot(index=\"representation\", columns=\"covariate\", values=\"score\")\n",
    "# knn_results_wide.reset_index(inplace=True)\n",
    "\n",
    "# Order the columns as in benchmark schema\n",
    "cols_order = [\"total\"]\n",
    "\n",
    "for covariate_type in benchmark_schema:\n",
    "    cols_order.extend(benchmark_schema[covariate_type])\n",
    "    cols_order.append(covariate_type)\n",
    "\n",
    "cmap = LinearSegmentedColormap.from_list(\n",
    "    name=\"bugw\", colors=[\"#FF9693\", \"#f2fbd2\", \"#c9ecb4\", \"#93d3ab\", \"#35b0ab\"], N=256\n",
    ")\n",
    "\n",
    "col_defs = []\n",
    "\n",
    "col_defs.append(\n",
    "    ColumnDefinition(\n",
    "        \"total\",\n",
    "        width=0.7,\n",
    "        plot_fn=bar,\n",
    "        plot_kw={\n",
    "            \"cmap\": cmap,\n",
    "            \"plot_bg_bar\": True,\n",
    "            \"annotate\": True,\n",
    "            \"height\": 0.5,\n",
    "            \"lw\": 0.5,\n",
    "            \"formatter\": lambda x: round(x, 2),\n",
    "        })\n",
    ")\n",
    "\n",
    "for covariate_type in benchmark_schema:\n",
    "    type_cols = benchmark_schema[covariate_type]\n",
    "    \n",
    "    for col in type_cols:\n",
    "        col_def = ColumnDefinition(\n",
    "            name=col, \n",
    "            width=0.75,\n",
    "            formatter=lambda x: round(x, 2),\n",
    "            textprops={\n",
    "                \"ha\": \"center\",\n",
    "                \"bbox\": {\"boxstyle\": \"circle\", \"pad\": 0.35},\n",
    "            },\n",
    "            cmap=normed_cmap(knn_results[\"score\"], cmap=matplotlib.cm.PiYG, num_stds=2.5),\n",
    "            group=covariate_type\n",
    "        )\n",
    "        \n",
    "        col_defs.append(col_def)\n",
    "        \n",
    "    knn_results_wide[covariate_type] = knn_results_wide[type_cols].mean(axis=1)\n",
    "    col_defs.append(\n",
    "        ColumnDefinition(\n",
    "            covariate_type,\n",
    "            width=0.7,\n",
    "            plot_fn=bar,\n",
    "            plot_kw={\n",
    "                \"cmap\": cmap,\n",
    "                \"plot_bg_bar\": True,\n",
    "                \"annotate\": True,\n",
    "                \"height\": 0.5,\n",
    "                \"lw\": 0.5,\n",
    "                \"formatter\": lambda x: round(x, 2),\n",
    "            })\n",
    "    )\n",
    "    \n",
    "        \n",
    "#     col_defs.append(type_cols)\n",
    "clin_weight = 2 / 3\n",
    "\n",
    "knn_results_wide[\"total\"] = clin_weight * knn_results_wide[\"clinical\"] + (1 - clin_weight) * knn_results_wide[\"technical\"]"
   ]
  },
  {
   "cell_type": "code",
   "execution_count": null,
   "id": "68d23261",
   "metadata": {},
   "outputs": [],
   "source": [
    "fig, ax = plt.subplots(figsize=(18, 6))\n",
    "\n",
    "Table(knn_results_wide[cols_order].sort_values(\"total\", ascending=False),\n",
    "      column_definitions=tuple(col_defs), ax=ax)"
   ]
  },
  {
   "cell_type": "markdown",
   "id": "9b40741d",
   "metadata": {},
   "source": [
    "# Other methods\n",
    "\n",
    "There are other methods implemented that you might want to try:\n",
    "- Aggregated per cell type (or some other group) pseudobulk: `pr.tl.GroupedPseudobulk`\n",
    "- Composition differences: `pr.tl.CellGroupComposition`\n",
    "- scPoli: `pr.tl.SCPoli`\n",
    "- MrVI: `pr.tl.MrVI`\n",
    "- PhEMD: `pr.tl.PhEMD`\n",
    "    - This implementation is very computationally intensive. You might want to leave 100-200 cells per patient to get results in a reasonable time. Use `pr.pp.subsample` for this\n",
    "- Wasserstein distance between gaussians: `pr.tl.WassersteinTSNE`\n",
    "\n",
    "There are also methods implemented in R. GloScope performs quite well. You can save layer you want to run it on (e.g. scVI or PCA representation of cells) to csv files and then run this script:"
   ]
  },
  {
   "cell_type": "code",
   "execution_count": null,
   "id": "90ce7d4e",
   "metadata": {},
   "outputs": [],
   "source": [
    "!cat ../../src/patient_representation/tl/gloscope.R"
   ]
  },
  {
   "cell_type": "code",
   "execution_count": null,
   "id": "709870f0",
   "metadata": {},
   "outputs": [],
   "source": [
    "# Save layer. For smaller computation time, subset variables (e.g. take first 10 PCs), when this is appropriate\n",
    "layer = \"X_pca\"\n",
    "pd.DataFrame(\n",
    "    adata.obsm[layer],\n",
    "    index=adata.obs_names,\n",
    "    columns=[f\"PCA_{i}\" for i in range(adata.obsm[layer].shape[1])]\n",
    ").to_csv(f\"data/gloscope_{layer}.csv\")\n",
    "\n",
    "# Save samples\n",
    "pd.DataFrame(\n",
    "    adata.obs[sample_id_col]\n",
    ").to_csv(\"data/combats_samples.csv\", index=False)"
   ]
  },
  {
   "cell_type": "code",
   "execution_count": null,
   "id": "415fbd91",
   "metadata": {},
   "outputs": [],
   "source": [
    "%%bash\n",
    "\n",
    "GLOSCOPE_SCRIPT=../../src/patient_representation/src/patient_representation/tl/gloscope.R\n",
    "\n",
    "Rscript ${GLOSCOPE_SCRIPT} \\\n",
    "    --df_path=\"data/combat_X_pca.csv\" \\\n",
    "    --sample_ids_path=\"data/combat_samples.csv\" \\\n",
    "    --dist_mat=\"KL\" \\\n",
    "    --dens=\"KNN\" \\\n",
    "    --k=25 \\\n",
    "    --seed=2 \\\n",
    "    --output=\"data/gloscope_output.csv\" \\\n",
    "    -v;"
   ]
  },
  {
   "cell_type": "markdown",
   "id": "ea3ec53f",
   "metadata": {},
   "source": [
    "# Compare KNN score for different patient subsets"
   ]
  },
  {
   "cell_type": "code",
   "execution_count": null,
   "id": "85a44918",
   "metadata": {},
   "outputs": [],
   "source": [
    "# init scPoli\n",
    "scpoli_method = pr.tl.SCPoli(sample_key=sample_id_col, cells_type_key=cell_type_key, latent_dim=3, layer=\"X_raw_counts\")\n",
    "scpoli_method.prepare_anndata(adata, sample_size_threshold=100, optimize_adata=False)\n",
    "scpoli_method.calculate_distance_matrix(force=True)\n",
    "\n",
    "donor_counts = list(range(10, 139, 5))\n",
    "num_runs = 20\n",
    "results = pd.DataFrame(columns=[\"Method\", \"Number of Donors\", \"Score\", \"Run\"])\n",
    "\n",
    "for run in range(num_runs):\n",
    "    for count in donor_counts:\n",
    "        # TotalPseudobulk\n",
    "        score_pseudobulk = pseudobulk.evaluate_representation(target=\"Outcome\", method=\"knn\", num_donors_subset=count, n_neighbors=5, task=\"ranking\")\n",
    "        results = results.append({\"Method\": \"TotalPseudobulk\", \"Number of Donors\": count, \"Score\": score_pseudobulk['score'], \"Run\": run}, ignore_index=True)\n",
    "        \n",
    "        # PILOT\n",
    "        score_pilot = pilot.evaluate_representation(target=\"Outcome\", method=\"knn\", num_donors_subset=count, n_neighbors=5, task=\"ranking\")\n",
    "        results = results.append({\"Method\": \"PILOT\", \"Number of Donors\": count, \"Score\": score_pilot['score'], \"Run\": run}, ignore_index=True)\n",
    "\n",
    "        #scPoli\n",
    "        score_scPoli = scpoli_method.evaluate_representation(target=\"Outcome\", method=\"knn\", num_donors_subset=count, n_neighbors=5, task=\"ranking\")\n",
    "        results = results.append({\"Method\": \"scPoli\", \"Number of Donors\": count, \"Score\": score_scPoli['score'], \"Run\": run}, ignore_index=True)\n",
    "\n",
    "# Plotting the results \n",
    "plt.figure(figsize=(20, 10))\n",
    "sns.boxplot(data=results, x=\"Number of Donors\", y=\"Score\", hue=\"Method\")\n",
    "sns.swarmplot(data=results, x=\"Number of Donors\", y=\"Score\", hue=\"Method\", color=\".25\", dodge=True, size=3)\n",
    "\n",
    "plt.title('KNN Score Distribution Across Donor Counts and Methods')\n",
    "plt.xlabel('Number of Donors')\n",
    "plt.ylabel('Spearman Score')\n",
    "plt.grid(True)\n",
    "\n",
    "handles, labels = plt.gca().get_legend_handles_labels()\n",
    "plt.legend(handles[:3], labels[:3], title=\"Method\", loc='upper left') \n",
    "\n",
    "plt.savefig(\"knn_score_distribution.png\", dpi=300)\n",
    "plt.close()"
   ]
  },
  {
   "cell_type": "markdown",
   "id": "eaaf73a8",
   "metadata": {},
   "source": [
    "Here is the \"knn_score_distribution.png\" output from the previous cell:\n",
    "\n",
    "![knn_score_distribution](./knn_score_distribution.png)"
   ]
  }
 ],
 "metadata": {
  "kernelspec": {
   "display_name": "patients_representation",
   "language": "python",
   "name": "python3"
  },
  "language_info": {
   "codemirror_mode": {
    "name": "ipython",
    "version": 3
   },
   "file_extension": ".py",
   "mimetype": "text/x-python",
   "name": "python",
   "nbconvert_exporter": "python",
   "pygments_lexer": "ipython3",
   "version": "3.10.12"
  }
 },
 "nbformat": 4,
 "nbformat_minor": 5
}
