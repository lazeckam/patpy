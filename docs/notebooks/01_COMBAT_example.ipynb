{
 "cells": [
  {
   "cell_type": "markdown",
   "id": "955f04b3",
   "metadata": {},
   "source": [
    "# Download COMBAT data"
   ]
  },
  {
   "cell_type": "code",
   "execution_count": 2,
   "id": "f2481c5d",
   "metadata": {},
   "outputs": [
    {
     "name": "stderr",
     "output_type": "stream",
     "text": [
      "mkdir: data: File exists\n",
      "--2023-05-09 13:59:42--  https://zenodo.org/record/6120249/files/COMBAT-CITESeq-DATA.h5ad\n",
      "Resolving zenodo.org (zenodo.org)... 188.185.124.72\n",
      "Connecting to zenodo.org (zenodo.org)|188.185.124.72|:443... connected.\n",
      "HTTP request sent, awaiting response... 200 OK\n",
      "Length: 6409089483 (6,0G) [application/octet-stream]\n",
      "Saving to: ‘data/COMBAT-CITESeq-DATA.h5ad’\n",
      "\n",
      "     0K .......... .......... .......... .......... ..........  0% 2,31M 44m12s\n",
      "    50K .......... .......... .......... .......... ..........  0% 1,15M 66m32s\n",
      "   100K .......... .......... .......... .......... ..........  0% 1,09M 75m27s\n",
      "   150K .......... .......... .......... .......... ..........  0%  663K 95m55s\n",
      "   200K .......... .......... .......... .......... ..........  0%  870K 1h40m\n",
      "   250K .......... .......... .......... .......... ..........  0%  394K 2h8m\n",
      "   300K .......... .......... .......... .......... ..........  0% 1,14M 2h2m\n",
      "   350K .......... .......... .......... .......... ..........  0% 1,13M 1h58m\n",
      "   400K .......... .......... .......... .......... ..........  0% 1,74M 1h51m\n",
      "   450K .......... .......... .......... .......... ..........  0%  994K 1h51m\n",
      "   500K .......... .......... .......... .......... ..........  0% 1,00M 1h50m\n",
      "   550K .......... .......... .......... .......... ..........  0%  935K 1h50m\n",
      "   600K .......... .......... .......... .......... ..........  0% 1,10M 1h48m\n",
      "   650K .......... .......... .......... .......... ..........  0%  862K 1h49m\n",
      "   700K .......... .......... .......... .......... ..........  0%  974K 1h49m\n",
      "   750K .......... .......... .......... .......... ..........  0%  211K 2h13m\n",
      "   800K .......... .......... .......... .......... ..........  0%  536K 2h17m\n",
      "   850K .......... .......... .......... .......... ..........  0% 1,10M 2h14m\n",
      "   900K .......... .......... .......... .......... ..........  0% 1,28M 2h11m\n",
      "   950K .......... .......... .......... .......... ..........  0% 1,37M 2h8m\n",
      "  1000K .......... .......... .......... .......... ..........  0% 1,07M 2h7m\n",
      "  1050K .......... .......... .......... .......... ..........  0%  370K 2h14m\n",
      "  1100K .......... .......... .......... .......... ..........  0% 2,16M 2h10m\n",
      "  1150K .......... .......... .......... .......... ..........  0% 1013K 2h9m\n",
      "  1200K .......... .......... .......... .......... ..........  0% 1,85M 2h6m\n",
      "  1250K .......... .......... .......... .......... ..........  0%  800K 2h6m\n",
      "  1300K .......... .......... .......... .......... ..........  0%  750K 2h7m\n",
      "  1350K .......... .......... .......... .......... ..........  0%  969K 2h6m\n",
      "  1400K .......... .......... .......... .......... ..........  0% 1,60M 2h4m\n",
      "  1450K .......... .......... .......... .......... ..........  0% 1,28M 2h2m\n",
      "  1500K .......... .......... .......... .......... ..........  0% 1016K 2h2m\n",
      "  1550K .......... .......... .......... .......... ..........  0% 1,40M 2h0m\n",
      "  1600K .......... .......... .......... .......... ..........  0% 1,41M 1h59m\n",
      "  1650K .......... .......... .......... .......... ..........  0%  265K 2h7m\n",
      "  1700K .......... .......... .......... .......... ..........  0%  870K 2h6m\n",
      "  1750K .......... .......... .......... .......... ..........  0%  862K 2h6m\n",
      "  1800K .......... .......... .......... .......... ..........  0% 1,67M 2h4m\n",
      "  1850K .......... .......... .......... .......... ..........  0% 1,12M 2h4m\n",
      "  1900K .......... .......... .......... .......... ..........  0% 1,22M 2h3m\n",
      "  1950K .......... .......... .......... .......... ..........  0%  303K 2h8m\n",
      "  2000K .......... .......... .......... .......... ..........  0% 1,82M 2h6m\n",
      "  2050K .......... .......... .......... .......... ..........  0%  807K 2h6m\n",
      "  2100K .......... .......... .......... .......... ..........  0%  988K 2h6m\n",
      "  2150K .......... .......... .......... .......... ..........  0%  797K 2h6m\n",
      "  2200K .......... .......... .......... .......... ..........  0% 1,60M 2h5m\n",
      "  2250K .......... .......... .......... .......... ..........  0% 1,20M 2h4m\n",
      "  2300K .......... .......... .......... .......... ..........  0% 1,22M 2h3m\n",
      "  2350K .......... .......... .......... .......... ..........  0%  790K 2h3m\n",
      "  2400K .......... .......... .......... .......... ..........  0% 1,01M 2h3m\n",
      "  2450K .......... .......... .......... .......... ..........  0% 1,06M 2h2m\n",
      "  2500K .......... .......... .......... .......... ..........  0%  273K 2h7m\n",
      "  2550K .......... .......... .......... .......... ..........  0%  961K 2h7m\n",
      "  2600K .......... .......... .......... .......... ..........  0% 1,38M 2h6m\n",
      "  2650K .......... .......... .......... .......... ..........  0% 1,08M 2h5m\n",
      "  2700K .......... .......... .......... .......... ..........  0% 1,38M 2h4m\n",
      "  2750K .......... .......... .......... .......... ..........  0%  798K 2h4m\n",
      "  2800K .......... .......... .......... .......... ..........  0%  775K 2h4m\n",
      "  2850K .......... .......... .......... .......... ..........  0%  464K 2h6m\n",
      "  2900K .......... .......... .......... .......... ..........  0% 1,06M 2h6m\n",
      "  2950K .......... .......... .......... .......... ..........  0%  928K 2h5m\n",
      "  3000K .......... .......... .......... .......... ..........  0% 1,48M 2h4m\n",
      "  3050K .......... .......... .......... .......... ..........  0% 1,27M 2h4m\n",
      "  3100K .......... .......... .......... .......... ..........  0%  801K 2h4m\n",
      "  3150K .......... .......... .......... .......... ..........  0%  773K 2h4m\n",
      "  3200K .......... .......... .......... .......... ..........  0% 1,93M 2h3m\n",
      "  3250K .......... .......... .......... .......... ..........  0% 2,17M 2h2m\n",
      "  3300K .......... .......... .......... .......... ..........  0% 1,12M 2h1m\n",
      "  3350K .......... .......... .......... .......... ..........  0% 1,08M 2h1m\n",
      "  3400K .......... .......... .......... .......... ..........  0%  238K 2h5m\n",
      "  3450K .......... .......... .......... .......... ..........  0% 1,01M 2h5m\n",
      "  3500K .......... .......... .......... .......... ..........  0% 1,04M 2h5m\n",
      "  3550K .......... .......... .......... .......... ..........  0%  715K 2h5m\n",
      "  3600K .......... .......... .......... .......... ..........  0%  642K 2h6m\n",
      "  3650K .......... .......... .......... .......... ..........  0%  334K 2h8m\n",
      "  3700K .......... .......... .......... .......... ..........  0%  724K 2h8m\n",
      "  3750K .......... .......... .......... .......... ..........  0% 1,14M 2h8m\n",
      "  3800K .......... .......... .......... .......... ..........  0% 1,07M 2h7m\n",
      "  3850K .......... .......... .......... .......... ..........  0%  946K 2h7m\n",
      "  3900K .......... .......... .......... .......... ..........  0% 1011K 2h7m\n",
      "  3950K .......... .......... .......... .......... ..........  0%  875K 2h7m\n",
      "  4000K .......... .......... .......... .......... ..........  0% 1,09M 2h6m\n",
      "  4050K .......... .......... .......... .......... ..........  0% 1,51M 2h6m\n",
      "  4100K .......... .......... .......... .......... ..........  0% 1,78M 2h5m\n",
      "  4150K .......... .......... .......... .......... ..........  0% 1,56M 2h4m\n",
      "  4200K .......... .......... .......... .......... ..........  0%  247K 2h7m\n",
      "  4250K .......... .......... .......... .......... ..........  0% 1,16M 2h7m\n",
      "  4300K .......... .......... .......... .......... ..........  0% 1,07M 2h7m\n",
      "  4350K .......... .......... .......... .......... ..........  0%  745K 2h7m\n",
      "  4400K .......... .......... .......... .......... ..........  0%  776K 2h7m\n",
      "  4450K .......... .......... .......... .......... ..........  0% 1,44M 2h6m\n",
      "  4500K .......... .......... .......... .......... ..........  0%  349K 2h8m\n",
      "  4550K .......... .......... .......... .......... ..........  0% 1,34M 2h8m\n",
      "  4600K .......... .......... .......... .......... ..........  0% 1,51M 2h7m\n",
      "  4650K .......... .......... .......... .......... ..........  0%  833K 2h7m\n",
      "  4700K .......... .......... .......... .......... ..........  0% 1,63M 2h6m\n",
      "  4750K .......... .......... .......... .......... ..........  0% 1,31M 2h6m\n",
      "  4800K .......... .......... .......... .......... ..........  0% 1,41M 2h5m\n",
      "  4850K .......... .......... .......... .......... ..........  0% 1,34M 2h5m\n",
      "  4900K .......... .......... .......... .......... ..........  0% 1,28M 2h4m\n",
      "  4950K .......... .......... .......... .......... ..........  0%  787K 2h4m\n"
     ]
    },
    {
     "name": "stderr",
     "output_type": "stream",
     "text": [
      "  5000K .......... .......... .......... .......... ..........  0%  746K 2h4m\n",
      "  5050K .......... .......... .......... .......... ..........  0% 1,28M 2h4m\n",
      "  5100K .......... .......... .......... .......... ..........  0% 2,24M 2h3m\n",
      "  5150K .......... .......... .......... .......... ..........  0%  241K 2h6m\n",
      "  5200K .......... .......... .......... .......... ..........  0% 1,06M 2h6m\n",
      "  5250K .......... .......... .......... .......... ..........  0%  986K 2h6m\n",
      "  5300K .......... .......... .......... .......... ..........  0%  735K 2h6m\n",
      "  5350K .......... .......... .......... .......... ..........  0%  281K 2h8m\n",
      "  5400K .......... .......... .......... .......... ..........  0% 1,76M 2h7m\n",
      "  5450K .......... .......... .......... .......... ..........  0% 1,07M 2h7m\n",
      "  5500K .......... .......... .......... .......... ..........  0% 1,45M 2h7m\n",
      "  5550K .......... .......... .......... .......... ..........  0% 1,61M 2h6m\n",
      "  5600K .......... .......... .......... .......... ..........  0% 2,33M 2h5m\n",
      "  5650K .......... .......... .......... .......... ..........  0% 2,23M 2h5m\n",
      "  5700K .......... .......... .......... .......... ..........  0% 1008K 2h4m\n",
      "  5750K .......... .......... .......... .......... ..........  0% 2,16M 2h4m\n",
      "  5800K .......... .......... .......... .......... ..........  0% 1,98M 2h3m\n",
      "  5850K .......... .......... .......... .......... ..........  0% 1,44M 2h3m\n",
      "  5900K .......... .......... .......... .......... ..........  0% 1,23M 2h2m\n",
      "  5950K .......... .......... .......... .......... ..........  0%  780K 2h2m\n",
      "  6000K .......... .......... .......... .......... ..........  0% 1,06M 2h2m\n",
      "  6050K .......... .......... .......... .......... ..........  0%  257K 2h4m\n",
      "  6100K .......... .......... .......... .......... ..........  0% 1,22M 2h4m\n",
      "  6150K .......... .......... .......... .......... ..........  0% 1,44M 2h4m\n",
      "  6200K .......... .......... .......... .......... ..........  0% 1,46M 2h3m\n",
      "  6250K .......... .......... .......... .......... ..........  0%  827K 2h3m\n",
      "  6300K .......... .......... .......... .......... ..........  0% 2,03M 2h3m\n",
      "  6350K .......... .......... .......... .......... ..........  0% 1,18M 2h2m\n",
      "  6400K .......... .......... .......... .......... ..........  0% 1,28M 2h2m\n",
      "  6450K .......... .......... .......... .......... ..........  0%  412K 2h3m\n",
      "  6500K .......... .......... .......... .......... ..........  0%  761K 2h3m\n",
      "  6550K .......... .......... .......... .......... ..........  0% 1,36M 2h3m\n",
      "  6600K .......... .......... .......... .......... ..........  0% 1,98M 2h2m\n",
      "  6650K .......... .......... .......... .......... ..........  0% 1,98M 2h2m\n",
      "  6700K .......... .......... .......... .......... ..........  0% 1,45M 2h1m\n",
      "  6750K .......... .......... .......... .......... ..........  0%  483K 2h2m\n",
      "  6800K .......... .......... .......... .......... ..........  0%  484K 2h3m\n",
      "  6850K .......... .......... .......... .......... ..........  0% 1,71M 2h2m\n",
      "  6900K .......... .......... .......... .......... ..........  0% 1,10M 2h2m\n",
      "  6950K .......... .......... .......... .......... ..........  0%  262K 2h4m\n",
      "  7000K .......... .......... .......... .......... ..........  0% 2,18M 2h3m\n",
      "  7050K .......... .......... .......... .......... ..........  0% 1,37M 2h3m\n",
      "  7100K .......... .......... .......... .......... ..........  0% 1,16M 2h3m\n",
      "  7150K .......... .......... .......... .......... ..........  0% 1,08M 2h3m\n",
      "  7200K .......... .......... .......... .......... ..........  0%  831K 2h3m\n",
      "  7250K .......... .......... .......... .......... ..........  0%  992K 2h3m\n",
      "  7300K .......... .......... .......... .......... ..........  0% 1,10M 2h2m\n",
      "  7350K .......... .......... .......... .......... ..........  0%  419K 2h3m\n",
      "  7400K .......... .......... .......... .......... ..........  0% 1,08M 2h3m\n",
      "  7450K .......... .......... .......... .......... ..........  0% 1,34M 2h3m\n",
      "  7500K .......... .......... .......... .......... ..........  0%  951K 2h3m\n",
      "  7550K .......... .......... .......... .......... ..........  0% 1,04M 2h2m\n",
      "  7600K .......... .......... .......... .......... ..........  0%  731K 2h3m\n",
      "  7650K .......... .......... .......... .......... ..........  0%  553K 2h3m\n",
      "  7700K .......... .......... .......... .......... ..........  0% 1,29M 2h3m\n",
      "  7750K .......... .......... .......... .......... ..........  0%  751K 2h3m\n",
      "  7800K .......... .......... .......... .......... ..........  0% 1,80M 2h2m\n",
      "  7850K .......... .......... .......... .......... ..........  0%  262K 2h4m\n",
      "  7900K .......... .......... .......... .......... ..........  0% 1,23M 2h4m\n",
      "  7950K .......... .......... .......... .......... ..........  0%  738K 2h4m\n",
      "  8000K .......... .......... .......... .......... ..........  0% 1003K 2h4m\n",
      "  8050K .......... .......... .......... .......... ..........  0% 1,47M 2h3m\n",
      "  8100K .......... .......... .......... .......... ..........  0% 1,05M 2h3m\n",
      "  8150K .......... .......... ...."
     ]
    },
    {
     "name": "stdout",
     "output_type": "stream",
     "text": [
      "Process is interrupted.\n"
     ]
    }
   ],
   "source": [
    "%%bash \n",
    "\n",
    "mkdir data\n",
    "wget -P data https://zenodo.org/record/6120249/files/COMBAT-CITESeq-DATA.h5ad"
   ]
  },
  {
   "cell_type": "markdown",
   "id": "575df0b2",
   "metadata": {},
   "source": [
    "# Read data"
   ]
  },
  {
   "cell_type": "code",
   "execution_count": 25,
   "id": "dd00feae",
   "metadata": {
    "scrolled": true
   },
   "outputs": [
    {
     "name": "stderr",
     "output_type": "stream",
     "text": [
      "Global seed set to 0\n",
      "/Users/vladimir.shitov/miniconda3/envs/patients_representation/lib/python3.10/site-packages/pytorch_lightning/utilities/warnings.py:53: LightningDeprecationWarning: pytorch_lightning.utilities.warnings.rank_zero_deprecation has been deprecated in v1.6 and will be removed in v1.8. Use the equivalent function from the pytorch_lightning.utilities.rank_zero module instead.\n",
      "  new_rank_zero_deprecation(\n",
      "/Users/vladimir.shitov/miniconda3/envs/patients_representation/lib/python3.10/site-packages/pytorch_lightning/utilities/warnings.py:58: LightningDeprecationWarning: The `pytorch_lightning.loggers.base.rank_zero_experiment` is deprecated in v1.7 and will be removed in v1.9. Please use `pytorch_lightning.loggers.logger.rank_zero_experiment` instead.\n",
      "  return new_rank_zero_deprecation(*args, **kwargs)\n"
     ]
    }
   ],
   "source": [
    "import scanpy as sc\n",
    "import scvi"
   ]
  },
  {
   "cell_type": "code",
   "execution_count": 8,
   "id": "f1ca522d",
   "metadata": {},
   "outputs": [],
   "source": [
    "# ADATA_PATH = \"data/COMBAT-CITESeq-DATA.h5ad\"\n",
    "ADATA_PATH = \"/Users/vladimir.shitov/Documents/science/PhD/2022_10_patients_representation/data/COMBAT data/COMBAT-CITESeq-DATA.h5ad\""
   ]
  },
  {
   "cell_type": "code",
   "execution_count": 9,
   "id": "7e156faf",
   "metadata": {},
   "outputs": [
    {
     "data": {
      "text/plain": [
       "AnnData object with n_obs × n_vars = 836148 × 20807\n",
       "    obs: 'Annotation_cluster_id', 'Annotation_cluster_name', 'Annotation_minor_subset', 'Annotation_major_subset', 'Annotation_cell_type', 'GEX_region', 'QC_ngenes', 'QC_total_UMI', 'QC_pct_mitochondrial', 'QC_scrub_doublet_scores', 'TCR_chain_composition', 'TCR_clone_ID', 'TCR_clone_count', 'TCR_clone_proportion', 'TCR_contains_unproductive', 'TCR_doublet', 'TCR_chain_TRA', 'TCR_v_gene_TRA', 'TCR_d_gene_TRA', 'TCR_j_gene_TRA', 'TCR_c_gene_TRA', 'TCR_productive_TRA', 'TCR_cdr3_TRA', 'TCR_umis_TRA', 'TCR_chain_TRA2', 'TCR_v_gene_TRA2', 'TCR_d_gene_TRA2', 'TCR_j_gene_TRA2', 'TCR_c_gene_TRA2', 'TCR_productive_TRA2', 'TCR_cdr3_TRA2', 'TCR_umis_TRA2', 'TCR_chain_TRB', 'TCR_v_gene_TRB', 'TCR_d_gene_TRB', 'TCR_j_gene_TRB', 'TCR_c_gene_TRB', 'TCR_productive_TRB', 'TCR_chain_TRB2', 'TCR_v_gene_TRB2', 'TCR_d_gene_TRB2', 'TCR_j_gene_TRB2', 'TCR_c_gene_TRB2', 'TCR_productive_TRB2', 'TCR_cdr3_TRB2', 'TCR_umis_TRB2', 'BCR_umis_HC', 'BCR_contig_qc_HC', 'BCR_functionality_HC', 'BCR_v_call_HC', 'BCR_v_score_HC', 'BCR_j_call_HC', 'BCR_j_score_HC', 'BCR_junction_aa_HC', 'BCR_total_mut_HC', 'BCR_s_mut_HC', 'BCR_r_mut_HC', 'BCR_c_gene_HC', 'BCR_clone_per_replicate_HC', 'BCR_clone_global_HC', 'BCR_clonal_abundance_HC', 'BCR_locus_LC', 'BCR_umis_LC', 'BCR_contig_qc_LC', 'BCR_functionality_LC', 'BCR_v_call_LC', 'BCR_v_score_LC', 'BCR_j_call_LC', 'BCR_j_score_LC', 'BCR_junction_aa_LC', 'BCR_total_mut_LC', 'BCR_s_mut_LC', 'BCR_r_mut_LC', 'BCR_c_gene_LC', 'COMBAT_ID', 'scRNASeq_sample_ID', 'COMBAT_participant_timepoint_ID', 'Source', 'Age', 'Sex', 'Race', 'BMI', 'Hospitalstay', 'Death28', 'Institute', 'PreExistingHeartDisease', 'PreExistingLungDisease', 'PreExistingKidneyDisease', 'PreExistingDiabetes', 'PreExistingHypertension', 'PreExistingImmunocompromised', 'Smoking', 'Symptomatic', 'Requiredvasoactive', 'Respiratorysupport', 'SARSCoV2PCR', 'Outcome', 'TimeSinceOnset', 'Ethnicity', 'Tissue', 'DiseaseClassification', 'Pool_ID', 'Channel_ID'\n",
       "    var: 'gene_ids', 'feature_types'\n",
       "    uns: 'Institute', 'ObjectCreateDate', 'Source_colors', 'Technology', 'genome_annotation_version'\n",
       "    obsm: 'X_umap', 'X_umap_source'\n",
       "    layers: 'raw'"
      ]
     },
     "execution_count": 9,
     "metadata": {},
     "output_type": "execute_result"
    }
   ],
   "source": [
    "adata = sc.read_h5ad(ADATA_PATH)\n",
    "adata"
   ]
  },
  {
   "cell_type": "markdown",
   "id": "fcea2957",
   "metadata": {},
   "source": [
    "COMBAT data is multimodal i.e. it contains protein expression as well. We will leave it behind for now and focus only on the RNA expression data"
   ]
  },
  {
   "cell_type": "code",
   "execution_count": 10,
   "id": "0cd9e4d2",
   "metadata": {},
   "outputs": [],
   "source": [
    "adata = adata[:, adata.var[\"feature_types\"] == \"Gene Expression\"].copy()"
   ]
  },
  {
   "cell_type": "markdown",
   "id": "a1b27af6",
   "metadata": {},
   "source": [
    "Find highly variable genes"
   ]
  },
  {
   "cell_type": "code",
   "execution_count": 11,
   "id": "b31ea8f0",
   "metadata": {},
   "outputs": [
    {
     "name": "stderr",
     "output_type": "stream",
     "text": [
      "/Users/vladimir.shitov/miniconda3/envs/patients_representation/lib/python3.10/site-packages/scanpy/preprocessing/_highly_variable_genes.py:62: UserWarning: `flavor='seurat_v3'` expects raw count data, but non-integers were found.\n",
      "  warnings.warn(\n"
     ]
    }
   ],
   "source": [
    "sc.pp.highly_variable_genes(adata, min_mean=0.0125, max_mean=3, min_disp=0.5, flavor=\"seurat_v3\",\n",
    "                            n_top_genes=3000)"
   ]
  },
  {
   "cell_type": "code",
   "execution_count": 12,
   "id": "cad21dd8",
   "metadata": {},
   "outputs": [],
   "source": [
    "adata = adata[:, adata.var.highly_variable].copy()"
   ]
  },
  {
   "cell_type": "code",
   "execution_count": 14,
   "id": "780e296b",
   "metadata": {},
   "outputs": [
    {
     "data": {
      "text/html": [
       "<div>\n",
       "<style scoped>\n",
       "    .dataframe tbody tr th:only-of-type {\n",
       "        vertical-align: middle;\n",
       "    }\n",
       "\n",
       "    .dataframe tbody tr th {\n",
       "        vertical-align: top;\n",
       "    }\n",
       "\n",
       "    .dataframe thead th {\n",
       "        text-align: right;\n",
       "    }\n",
       "</style>\n",
       "<table border=\"1\" class=\"dataframe\">\n",
       "  <thead>\n",
       "    <tr style=\"text-align: right;\">\n",
       "      <th></th>\n",
       "      <th>gene_ids</th>\n",
       "      <th>feature_types</th>\n",
       "      <th>highly_variable</th>\n",
       "      <th>highly_variable_rank</th>\n",
       "      <th>means</th>\n",
       "      <th>variances</th>\n",
       "      <th>variances_norm</th>\n",
       "    </tr>\n",
       "  </thead>\n",
       "  <tbody>\n",
       "    <tr>\n",
       "      <th>ISG15</th>\n",
       "      <td>ENSG00000187608</td>\n",
       "      <td>Gene Expression</td>\n",
       "      <td>True</td>\n",
       "      <td>723.0</td>\n",
       "      <td>0.565940</td>\n",
       "      <td>0.784620</td>\n",
       "      <td>1.320167</td>\n",
       "    </tr>\n",
       "    <tr>\n",
       "      <th>TNFRSF18</th>\n",
       "      <td>ENSG00000186891</td>\n",
       "      <td>Gene Expression</td>\n",
       "      <td>True</td>\n",
       "      <td>2496.0</td>\n",
       "      <td>0.032802</td>\n",
       "      <td>0.048503</td>\n",
       "      <td>1.091563</td>\n",
       "    </tr>\n",
       "    <tr>\n",
       "      <th>MMP23B</th>\n",
       "      <td>ENSG00000189409</td>\n",
       "      <td>Gene Expression</td>\n",
       "      <td>True</td>\n",
       "      <td>2316.0</td>\n",
       "      <td>0.010488</td>\n",
       "      <td>0.015635</td>\n",
       "      <td>1.100135</td>\n",
       "    </tr>\n",
       "    <tr>\n",
       "      <th>CFAP74</th>\n",
       "      <td>ENSG00000142609</td>\n",
       "      <td>Gene Expression</td>\n",
       "      <td>True</td>\n",
       "      <td>2030.0</td>\n",
       "      <td>0.000077</td>\n",
       "      <td>0.000113</td>\n",
       "      <td>1.117553</td>\n",
       "    </tr>\n",
       "    <tr>\n",
       "      <th>PLCH2</th>\n",
       "      <td>ENSG00000149527</td>\n",
       "      <td>Gene Expression</td>\n",
       "      <td>True</td>\n",
       "      <td>2786.0</td>\n",
       "      <td>0.005693</td>\n",
       "      <td>0.008328</td>\n",
       "      <td>1.079405</td>\n",
       "    </tr>\n",
       "    <tr>\n",
       "      <th>...</th>\n",
       "      <td>...</td>\n",
       "      <td>...</td>\n",
       "      <td>...</td>\n",
       "      <td>...</td>\n",
       "      <td>...</td>\n",
       "      <td>...</td>\n",
       "      <td>...</td>\n",
       "    </tr>\n",
       "    <tr>\n",
       "      <th>AC136616.2</th>\n",
       "      <td>ENSG00000277761</td>\n",
       "      <td>Gene Expression</td>\n",
       "      <td>True</td>\n",
       "      <td>1740.0</td>\n",
       "      <td>0.000145</td>\n",
       "      <td>0.000218</td>\n",
       "      <td>1.139804</td>\n",
       "    </tr>\n",
       "    <tr>\n",
       "      <th>AC141272.1</th>\n",
       "      <td>ENSG00000277836</td>\n",
       "      <td>Gene Expression</td>\n",
       "      <td>True</td>\n",
       "      <td>552.0</td>\n",
       "      <td>0.000406</td>\n",
       "      <td>0.000755</td>\n",
       "      <td>1.395083</td>\n",
       "    </tr>\n",
       "    <tr>\n",
       "      <th>AC007325.4</th>\n",
       "      <td>ENSG00000278817</td>\n",
       "      <td>Gene Expression</td>\n",
       "      <td>True</td>\n",
       "      <td>1604.0</td>\n",
       "      <td>0.000250</td>\n",
       "      <td>0.000381</td>\n",
       "      <td>1.153238</td>\n",
       "    </tr>\n",
       "    <tr>\n",
       "      <th>AC233755.2</th>\n",
       "      <td>ENSG00000277856</td>\n",
       "      <td>Gene Expression</td>\n",
       "      <td>True</td>\n",
       "      <td>202.0</td>\n",
       "      <td>0.023617</td>\n",
       "      <td>0.053809</td>\n",
       "      <td>1.676403</td>\n",
       "    </tr>\n",
       "    <tr>\n",
       "      <th>AC233755.1</th>\n",
       "      <td>ENSG00000275063</td>\n",
       "      <td>Gene Expression</td>\n",
       "      <td>True</td>\n",
       "      <td>217.0</td>\n",
       "      <td>0.025117</td>\n",
       "      <td>0.056576</td>\n",
       "      <td>1.657595</td>\n",
       "    </tr>\n",
       "  </tbody>\n",
       "</table>\n",
       "<p>3000 rows × 7 columns</p>\n",
       "</div>"
      ],
      "text/plain": [
       "                   gene_ids    feature_types  highly_variable  \\\n",
       "ISG15       ENSG00000187608  Gene Expression             True   \n",
       "TNFRSF18    ENSG00000186891  Gene Expression             True   \n",
       "MMP23B      ENSG00000189409  Gene Expression             True   \n",
       "CFAP74      ENSG00000142609  Gene Expression             True   \n",
       "PLCH2       ENSG00000149527  Gene Expression             True   \n",
       "...                     ...              ...              ...   \n",
       "AC136616.2  ENSG00000277761  Gene Expression             True   \n",
       "AC141272.1  ENSG00000277836  Gene Expression             True   \n",
       "AC007325.4  ENSG00000278817  Gene Expression             True   \n",
       "AC233755.2  ENSG00000277856  Gene Expression             True   \n",
       "AC233755.1  ENSG00000275063  Gene Expression             True   \n",
       "\n",
       "            highly_variable_rank     means  variances  variances_norm  \n",
       "ISG15                      723.0  0.565940   0.784620        1.320167  \n",
       "TNFRSF18                  2496.0  0.032802   0.048503        1.091563  \n",
       "MMP23B                    2316.0  0.010488   0.015635        1.100135  \n",
       "CFAP74                    2030.0  0.000077   0.000113        1.117553  \n",
       "PLCH2                     2786.0  0.005693   0.008328        1.079405  \n",
       "...                          ...       ...        ...             ...  \n",
       "AC136616.2                1740.0  0.000145   0.000218        1.139804  \n",
       "AC141272.1                 552.0  0.000406   0.000755        1.395083  \n",
       "AC007325.4                1604.0  0.000250   0.000381        1.153238  \n",
       "AC233755.2                 202.0  0.023617   0.053809        1.676403  \n",
       "AC233755.1                 217.0  0.025117   0.056576        1.657595  \n",
       "\n",
       "[3000 rows x 7 columns]"
      ]
     },
     "execution_count": 14,
     "metadata": {},
     "output_type": "execute_result"
    }
   ],
   "source": [
    "adata.var"
   ]
  },
  {
   "cell_type": "code",
   "execution_count": 13,
   "id": "fa214f7c",
   "metadata": {},
   "outputs": [
    {
     "data": {
      "text/plain": [
       "AnnData object with n_obs × n_vars = 836148 × 3000\n",
       "    obs: 'Annotation_cluster_id', 'Annotation_cluster_name', 'Annotation_minor_subset', 'Annotation_major_subset', 'Annotation_cell_type', 'GEX_region', 'QC_ngenes', 'QC_total_UMI', 'QC_pct_mitochondrial', 'QC_scrub_doublet_scores', 'TCR_chain_composition', 'TCR_clone_ID', 'TCR_clone_count', 'TCR_clone_proportion', 'TCR_contains_unproductive', 'TCR_doublet', 'TCR_chain_TRA', 'TCR_v_gene_TRA', 'TCR_d_gene_TRA', 'TCR_j_gene_TRA', 'TCR_c_gene_TRA', 'TCR_productive_TRA', 'TCR_cdr3_TRA', 'TCR_umis_TRA', 'TCR_chain_TRA2', 'TCR_v_gene_TRA2', 'TCR_d_gene_TRA2', 'TCR_j_gene_TRA2', 'TCR_c_gene_TRA2', 'TCR_productive_TRA2', 'TCR_cdr3_TRA2', 'TCR_umis_TRA2', 'TCR_chain_TRB', 'TCR_v_gene_TRB', 'TCR_d_gene_TRB', 'TCR_j_gene_TRB', 'TCR_c_gene_TRB', 'TCR_productive_TRB', 'TCR_chain_TRB2', 'TCR_v_gene_TRB2', 'TCR_d_gene_TRB2', 'TCR_j_gene_TRB2', 'TCR_c_gene_TRB2', 'TCR_productive_TRB2', 'TCR_cdr3_TRB2', 'TCR_umis_TRB2', 'BCR_umis_HC', 'BCR_contig_qc_HC', 'BCR_functionality_HC', 'BCR_v_call_HC', 'BCR_v_score_HC', 'BCR_j_call_HC', 'BCR_j_score_HC', 'BCR_junction_aa_HC', 'BCR_total_mut_HC', 'BCR_s_mut_HC', 'BCR_r_mut_HC', 'BCR_c_gene_HC', 'BCR_clone_per_replicate_HC', 'BCR_clone_global_HC', 'BCR_clonal_abundance_HC', 'BCR_locus_LC', 'BCR_umis_LC', 'BCR_contig_qc_LC', 'BCR_functionality_LC', 'BCR_v_call_LC', 'BCR_v_score_LC', 'BCR_j_call_LC', 'BCR_j_score_LC', 'BCR_junction_aa_LC', 'BCR_total_mut_LC', 'BCR_s_mut_LC', 'BCR_r_mut_LC', 'BCR_c_gene_LC', 'COMBAT_ID', 'scRNASeq_sample_ID', 'COMBAT_participant_timepoint_ID', 'Source', 'Age', 'Sex', 'Race', 'BMI', 'Hospitalstay', 'Death28', 'Institute', 'PreExistingHeartDisease', 'PreExistingLungDisease', 'PreExistingKidneyDisease', 'PreExistingDiabetes', 'PreExistingHypertension', 'PreExistingImmunocompromised', 'Smoking', 'Symptomatic', 'Requiredvasoactive', 'Respiratorysupport', 'SARSCoV2PCR', 'Outcome', 'TimeSinceOnset', 'Ethnicity', 'Tissue', 'DiseaseClassification', 'Pool_ID', 'Channel_ID'\n",
       "    var: 'gene_ids', 'feature_types', 'highly_variable', 'highly_variable_rank', 'means', 'variances', 'variances_norm'\n",
       "    uns: 'Institute', 'ObjectCreateDate', 'Source_colors', 'Technology', 'genome_annotation_version', 'hvg'\n",
       "    obsm: 'X_umap', 'X_umap_source'\n",
       "    layers: 'raw'"
      ]
     },
     "execution_count": 13,
     "metadata": {},
     "output_type": "execute_result"
    }
   ],
   "source": [
    "adata"
   ]
  },
  {
   "cell_type": "code",
   "execution_count": 16,
   "id": "736d5364",
   "metadata": {},
   "outputs": [],
   "source": [
    "sc.tl.pca(adata)"
   ]
  },
  {
   "cell_type": "code",
   "execution_count": 15,
   "id": "1e82269a",
   "metadata": {},
   "outputs": [
    {
     "data": {
      "text/plain": [
       "AnnData object with n_obs × n_vars = 836148 × 3000\n",
       "    obs: 'Annotation_cluster_id', 'Annotation_cluster_name', 'Annotation_minor_subset', 'Annotation_major_subset', 'Annotation_cell_type', 'GEX_region', 'QC_ngenes', 'QC_total_UMI', 'QC_pct_mitochondrial', 'QC_scrub_doublet_scores', 'TCR_chain_composition', 'TCR_clone_ID', 'TCR_clone_count', 'TCR_clone_proportion', 'TCR_contains_unproductive', 'TCR_doublet', 'TCR_chain_TRA', 'TCR_v_gene_TRA', 'TCR_d_gene_TRA', 'TCR_j_gene_TRA', 'TCR_c_gene_TRA', 'TCR_productive_TRA', 'TCR_cdr3_TRA', 'TCR_umis_TRA', 'TCR_chain_TRA2', 'TCR_v_gene_TRA2', 'TCR_d_gene_TRA2', 'TCR_j_gene_TRA2', 'TCR_c_gene_TRA2', 'TCR_productive_TRA2', 'TCR_cdr3_TRA2', 'TCR_umis_TRA2', 'TCR_chain_TRB', 'TCR_v_gene_TRB', 'TCR_d_gene_TRB', 'TCR_j_gene_TRB', 'TCR_c_gene_TRB', 'TCR_productive_TRB', 'TCR_chain_TRB2', 'TCR_v_gene_TRB2', 'TCR_d_gene_TRB2', 'TCR_j_gene_TRB2', 'TCR_c_gene_TRB2', 'TCR_productive_TRB2', 'TCR_cdr3_TRB2', 'TCR_umis_TRB2', 'BCR_umis_HC', 'BCR_contig_qc_HC', 'BCR_functionality_HC', 'BCR_v_call_HC', 'BCR_v_score_HC', 'BCR_j_call_HC', 'BCR_j_score_HC', 'BCR_junction_aa_HC', 'BCR_total_mut_HC', 'BCR_s_mut_HC', 'BCR_r_mut_HC', 'BCR_c_gene_HC', 'BCR_clone_per_replicate_HC', 'BCR_clone_global_HC', 'BCR_clonal_abundance_HC', 'BCR_locus_LC', 'BCR_umis_LC', 'BCR_contig_qc_LC', 'BCR_functionality_LC', 'BCR_v_call_LC', 'BCR_v_score_LC', 'BCR_j_call_LC', 'BCR_j_score_LC', 'BCR_junction_aa_LC', 'BCR_total_mut_LC', 'BCR_s_mut_LC', 'BCR_r_mut_LC', 'BCR_c_gene_LC', 'COMBAT_ID', 'scRNASeq_sample_ID', 'COMBAT_participant_timepoint_ID', 'Source', 'Age', 'Sex', 'Race', 'BMI', 'Hospitalstay', 'Death28', 'Institute', 'PreExistingHeartDisease', 'PreExistingLungDisease', 'PreExistingKidneyDisease', 'PreExistingDiabetes', 'PreExistingHypertension', 'PreExistingImmunocompromised', 'Smoking', 'Symptomatic', 'Requiredvasoactive', 'Respiratorysupport', 'SARSCoV2PCR', 'Outcome', 'TimeSinceOnset', 'Ethnicity', 'Tissue', 'DiseaseClassification', 'Pool_ID', 'Channel_ID'\n",
       "    var: 'gene_ids', 'feature_types', 'highly_variable', 'highly_variable_rank', 'means', 'variances', 'variances_norm'\n",
       "    uns: 'Institute', 'ObjectCreateDate', 'Source_colors', 'Technology', 'genome_annotation_version', 'hvg'\n",
       "    obsm: 'X_umap', 'X_umap_source'\n",
       "    layers: 'raw'"
      ]
     },
     "execution_count": 15,
     "metadata": {},
     "output_type": "execute_result"
    }
   ],
   "source": [
    "adata"
   ]
  },
  {
   "cell_type": "code",
   "execution_count": 23,
   "id": "7b72afb2",
   "metadata": {},
   "outputs": [
    {
     "data": {
      "text/plain": [
       "array([[0., 0., 0., 0., 0., 0., 0., 0., 0., 0., 0., 0., 0., 1., 0., 0.,\n",
       "        0., 0., 0., 0.],\n",
       "       [1., 0., 0., 0., 0., 0., 0., 0., 0., 0., 0., 0., 0., 0., 0., 0.,\n",
       "        0., 0., 0., 0.],\n",
       "       [0., 0., 0., 0., 0., 0., 0., 0., 0., 0., 0., 0., 0., 0., 0., 0.,\n",
       "        0., 0., 0., 0.],\n",
       "       [2., 0., 0., 0., 0., 0., 0., 0., 0., 0., 0., 0., 2., 0., 0., 0.,\n",
       "        0., 0., 0., 0.],\n",
       "       [8., 0., 0., 0., 0., 0., 0., 0., 1., 1., 0., 2., 3., 1., 0., 0.,\n",
       "        0., 0., 0., 0.],\n",
       "       [0., 0., 0., 0., 0., 0., 0., 0., 0., 2., 0., 1., 0., 0., 0., 0.,\n",
       "        0., 0., 0., 0.],\n",
       "       [0., 0., 0., 0., 0., 0., 0., 0., 0., 1., 0., 1., 0., 0., 0., 0.,\n",
       "        0., 0., 0., 0.],\n",
       "       [0., 0., 0., 0., 0., 0., 0., 0., 0., 0., 0., 0., 0., 0., 0., 0.,\n",
       "        0., 0., 0., 0.],\n",
       "       [0., 0., 0., 0., 0., 0., 0., 0., 0., 3., 0., 0., 1., 0., 0., 0.,\n",
       "        0., 0., 0., 0.],\n",
       "       [0., 0., 0., 0., 0., 0., 0., 0., 0., 0., 1., 0., 2., 1., 0., 0.,\n",
       "        0., 0., 0., 0.],\n",
       "       [0., 0., 0., 0., 0., 0., 0., 0., 0., 0., 0., 0., 0., 0., 0., 0.,\n",
       "        0., 0., 0., 0.],\n",
       "       [0., 0., 0., 0., 0., 0., 0., 0., 0., 0., 0., 0., 0., 0., 0., 0.,\n",
       "        0., 0., 0., 0.],\n",
       "       [0., 0., 0., 0., 0., 0., 0., 0., 1., 2., 0., 1., 1., 0., 0., 0.,\n",
       "        0., 0., 0., 0.],\n",
       "       [1., 0., 0., 0., 0., 0., 0., 0., 0., 3., 0., 3., 1., 0., 0., 0.,\n",
       "        0., 0., 0., 2.],\n",
       "       [1., 0., 0., 0., 0., 0., 0., 3., 0., 0., 0., 0., 0., 0., 0., 0.,\n",
       "        0., 0., 0., 0.],\n",
       "       [0., 1., 0., 0., 0., 0., 0., 0., 0., 0., 0., 1., 0., 1., 0., 0.,\n",
       "        0., 0., 0., 0.],\n",
       "       [0., 0., 0., 0., 1., 0., 0., 0., 0., 0., 0., 0., 0., 0., 0., 0.,\n",
       "        0., 0., 0., 0.],\n",
       "       [0., 0., 0., 0., 0., 0., 0., 0., 0., 0., 0., 0., 0., 0., 0., 0.,\n",
       "        0., 0., 0., 0.],\n",
       "       [2., 0., 0., 0., 0., 0., 0., 0., 0., 1., 0., 0., 1., 0., 0., 0.,\n",
       "        0., 0., 0., 0.],\n",
       "       [0., 0., 0., 0., 0., 0., 0., 0., 1., 7., 0., 0., 1., 1., 0., 0.,\n",
       "        0., 0., 0., 0.]], dtype=float32)"
      ]
     },
     "execution_count": 23,
     "metadata": {},
     "output_type": "execute_result"
    }
   ],
   "source": [
    "adata.layers[\"raw\"][:20, :20].toarray()"
   ]
  },
  {
   "cell_type": "code",
   "execution_count": 28,
   "id": "727a95f8",
   "metadata": {},
   "outputs": [
    {
     "data": {
      "text/plain": [
       "AnnData object with n_obs × n_vars = 836148 × 3000\n",
       "    obs: 'Annotation_cluster_id', 'Annotation_cluster_name', 'Annotation_minor_subset', 'Annotation_major_subset', 'Annotation_cell_type', 'GEX_region', 'QC_ngenes', 'QC_total_UMI', 'QC_pct_mitochondrial', 'QC_scrub_doublet_scores', 'TCR_chain_composition', 'TCR_clone_ID', 'TCR_clone_count', 'TCR_clone_proportion', 'TCR_contains_unproductive', 'TCR_doublet', 'TCR_chain_TRA', 'TCR_v_gene_TRA', 'TCR_d_gene_TRA', 'TCR_j_gene_TRA', 'TCR_c_gene_TRA', 'TCR_productive_TRA', 'TCR_cdr3_TRA', 'TCR_umis_TRA', 'TCR_chain_TRA2', 'TCR_v_gene_TRA2', 'TCR_d_gene_TRA2', 'TCR_j_gene_TRA2', 'TCR_c_gene_TRA2', 'TCR_productive_TRA2', 'TCR_cdr3_TRA2', 'TCR_umis_TRA2', 'TCR_chain_TRB', 'TCR_v_gene_TRB', 'TCR_d_gene_TRB', 'TCR_j_gene_TRB', 'TCR_c_gene_TRB', 'TCR_productive_TRB', 'TCR_chain_TRB2', 'TCR_v_gene_TRB2', 'TCR_d_gene_TRB2', 'TCR_j_gene_TRB2', 'TCR_c_gene_TRB2', 'TCR_productive_TRB2', 'TCR_cdr3_TRB2', 'TCR_umis_TRB2', 'BCR_umis_HC', 'BCR_contig_qc_HC', 'BCR_functionality_HC', 'BCR_v_call_HC', 'BCR_v_score_HC', 'BCR_j_call_HC', 'BCR_j_score_HC', 'BCR_junction_aa_HC', 'BCR_total_mut_HC', 'BCR_s_mut_HC', 'BCR_r_mut_HC', 'BCR_c_gene_HC', 'BCR_clone_per_replicate_HC', 'BCR_clone_global_HC', 'BCR_clonal_abundance_HC', 'BCR_locus_LC', 'BCR_umis_LC', 'BCR_contig_qc_LC', 'BCR_functionality_LC', 'BCR_v_call_LC', 'BCR_v_score_LC', 'BCR_j_call_LC', 'BCR_j_score_LC', 'BCR_junction_aa_LC', 'BCR_total_mut_LC', 'BCR_s_mut_LC', 'BCR_r_mut_LC', 'BCR_c_gene_LC', 'COMBAT_ID', 'scRNASeq_sample_ID', 'COMBAT_participant_timepoint_ID', 'Source', 'Age', 'Sex', 'Race', 'BMI', 'Hospitalstay', 'Death28', 'Institute', 'PreExistingHeartDisease', 'PreExistingLungDisease', 'PreExistingKidneyDisease', 'PreExistingDiabetes', 'PreExistingHypertension', 'PreExistingImmunocompromised', 'Smoking', 'Symptomatic', 'Requiredvasoactive', 'Respiratorysupport', 'SARSCoV2PCR', 'Outcome', 'TimeSinceOnset', 'Ethnicity', 'Tissue', 'DiseaseClassification', 'Pool_ID', 'Channel_ID'\n",
       "    var: 'gene_ids', 'feature_types', 'highly_variable', 'highly_variable_rank', 'means', 'variances', 'variances_norm'\n",
       "    uns: 'Institute', 'ObjectCreateDate', 'Source_colors', 'Technology', 'genome_annotation_version', 'hvg', 'pca'\n",
       "    obsm: 'X_umap', 'X_umap_source', 'X_pca'\n",
       "    varm: 'PCs'\n",
       "    layers: 'raw'"
      ]
     },
     "execution_count": 28,
     "metadata": {},
     "output_type": "execute_result"
    }
   ],
   "source": [
    "adata"
   ]
  },
  {
   "cell_type": "markdown",
   "id": "3004b720",
   "metadata": {},
   "source": [
    "Obtain scVI embedding"
   ]
  },
  {
   "cell_type": "code",
   "execution_count": 38,
   "id": "4dbb2799",
   "metadata": {},
   "outputs": [
    {
     "name": "stderr",
     "output_type": "stream",
     "text": [
      "GPU available: True (mps), used: False\n",
      "TPU available: False, using: 0 TPU cores\n",
      "IPU available: False, using: 0 IPUs\n",
      "HPU available: False, using: 0 HPUs\n",
      "/Users/vladimir.shitov/miniconda3/envs/patients_representation/lib/python3.10/site-packages/pytorch_lightning/trainer/trainer.py:1789: UserWarning: MPS available but not used. Set `accelerator` and `devices` using `Trainer(accelerator='mps', devices=1)`.\n",
      "  rank_zero_warn(\n"
     ]
    },
    {
     "name": "stdout",
     "output_type": "stream",
     "text": [
      "Epoch 10/10: 100%|███████████████████████████████████████████████████████████████████████████████████████████████████████████████████████████████████████████████████████████████████████████████| 10/10 [28:32<00:00, 173.29s/it, loss=578, v_num=1]"
     ]
    },
    {
     "name": "stderr",
     "output_type": "stream",
     "text": [
      "`Trainer.fit` stopped: `max_epochs=10` reached.\n"
     ]
    },
    {
     "name": "stdout",
     "output_type": "stream",
     "text": [
      "Epoch 10/10: 100%|███████████████████████████████████████████████████████████████████████████████████████████████████████████████████████████████████████████████████████████████████████████████| 10/10 [28:32<00:00, 171.30s/it, loss=578, v_num=1]\n"
     ]
    }
   ],
   "source": [
    "adata.raw = adata\n",
    "scvi.model.SCVI.setup_anndata(adata, layer=\"raw\", batch_key=\"scRNASeq_sample_ID\")\n",
    "vae = scvi.model.SCVI(adata, n_layers=2, n_latent=30, gene_likelihood=\"nb\")\n",
    "vae.train()\n",
    "adata.obsm[\"X_scVI\"] = vae.get_latent_representation()"
   ]
  },
  {
   "cell_type": "markdown",
   "id": "1b340b64",
   "metadata": {},
   "source": [
    "Obtain scANVI embedding"
   ]
  },
  {
   "cell_type": "code",
   "execution_count": 43,
   "id": "7e717d0b",
   "metadata": {},
   "outputs": [
    {
     "data": {
      "text/plain": [
       "AAACCTGAGAAAGTGG-1-gPlexA1        NK\n",
       "AAACCTGAGCGGATCA-1-gPlexA1       CD8\n",
       "AAACCTGAGGACATTA-1-gPlexA1       nan\n",
       "AAACCTGAGGCGACAT-1-gPlexA1    ncMono\n",
       "AAACCTGAGGGAACGG-1-gPlexA1     cMono\n",
       "                               ...  \n",
       "TTTGTCAGTGGCAAAC-1-gPlexK7     cMono\n",
       "TTTGTCAGTTACCGAT-1-gPlexK7       CD8\n",
       "TTTGTCATCCTCTAGC-1-gPlexK7       CD8\n",
       "TTTGTCATCGAGGTAG-1-gPlexK7     cMono\n",
       "TTTGTCATCTCCCTGA-1-gPlexK7     cMono\n",
       "Name: Annotation_major_subset, Length: 836148, dtype: category\n",
       "Categories (18, object): ['B', 'CD4', 'CD8', 'DC', ..., 'cMono', 'iNKT', 'nan', 'ncMono']"
      ]
     },
     "execution_count": 43,
     "metadata": {},
     "output_type": "execute_result"
    }
   ],
   "source": [
    "adata.obs[\"Annotation_major_subset\"]"
   ]
  },
  {
   "cell_type": "code",
   "execution_count": 41,
   "id": "a5461b21",
   "metadata": {},
   "outputs": [
    {
     "data": {
      "text/plain": [
       "CD4       269661\n",
       "cMono     213697\n",
       "CD8       106025\n",
       "NK         69927\n",
       "nan        52444\n",
       "B          44256\n",
       "ncMono     33172\n",
       "GDT         9580\n",
       "DC          8959\n",
       "PB          8596\n",
       "DP          6561\n",
       "DN          4557\n",
       "MAIT        4541\n",
       "HSC         1868\n",
       "PLT         1563\n",
       "iNKT         372\n",
       "RET          304\n",
       "Mast          65\n",
       "Name: Annotation_major_subset, dtype: int64"
      ]
     },
     "execution_count": 41,
     "metadata": {},
     "output_type": "execute_result"
    }
   ],
   "source": [
    "adata.obs[\"Annotation_major_subset\"].value_counts()"
   ]
  },
  {
   "cell_type": "code",
   "execution_count": null,
   "id": "86b01c42",
   "metadata": {},
   "outputs": [
    {
     "name": "stdout",
     "output_type": "stream",
     "text": [
      "\u001b[34mINFO    \u001b[0m Training for \u001b[1;36m20\u001b[0m epochs.                                                                                   \n"
     ]
    },
    {
     "name": "stderr",
     "output_type": "stream",
     "text": [
      "GPU available: True (mps), used: False\n",
      "TPU available: False, using: 0 TPU cores\n",
      "IPU available: False, using: 0 IPUs\n",
      "HPU available: False, using: 0 HPUs\n",
      "/Users/vladimir.shitov/miniconda3/envs/patients_representation/lib/python3.10/site-packages/pytorch_lightning/trainer/trainer.py:1789: UserWarning: MPS available but not used. Set `accelerator` and `devices` using `Trainer(accelerator='mps', devices=1)`.\n",
      "  rank_zero_warn(\n"
     ]
    },
    {
     "name": "stdout",
     "output_type": "stream",
     "text": [
      "Epoch 4/20:  15%|██████████████████████████▎                                                                                                                                                    | 3/20 [13:37<1:16:59, 271.75s/it, loss=667, v_num=1]"
     ]
    }
   ],
   "source": [
    "lvae = scvi.model.SCANVI.from_scvi_model(\n",
    "    vae,\n",
    "    adata=adata,\n",
    "    labels_key=\"Annotation_major_subset\",\n",
    "    unlabeled_category=\"nan\",\n",
    ")\n",
    "lvae.train(max_epochs=20, n_samples_per_label=100)\n",
    "adata.obsm[\"X_scANVI\"] = lvae.get_latent_representation(adata)"
   ]
  },
  {
   "cell_type": "code",
   "execution_count": null,
   "id": "d5fe4462",
   "metadata": {},
   "outputs": [],
   "source": []
  }
 ],
 "metadata": {
  "kernelspec": {
   "display_name": "Python [conda env:patients_representation]",
   "language": "python",
   "name": "conda-env-patients_representation-py"
  },
  "language_info": {
   "codemirror_mode": {
    "name": "ipython",
    "version": 3
   },
   "file_extension": ".py",
   "mimetype": "text/x-python",
   "name": "python",
   "nbconvert_exporter": "python",
   "pygments_lexer": "ipython3",
   "version": "3.10.9"
  }
 },
 "nbformat": 4,
 "nbformat_minor": 5
}
